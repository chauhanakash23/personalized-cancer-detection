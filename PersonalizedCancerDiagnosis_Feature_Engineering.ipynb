{
 "cells": [
  {
   "cell_type": "markdown",
   "metadata": {},
   "source": [
    "<p style=\"font-size:36px;text-align:center\"> <b>Personalized cancer diagnosis</b> </p>"
   ]
  },
  {
   "cell_type": "code",
   "execution_count": 1,
   "metadata": {},
   "outputs": [],
   "source": [
    "import pandas as pd\n",
    "import matplotlib.pyplot as plt\n",
    "import re\n",
    "import time\n",
    "import warnings\n",
    "import numpy as np\n",
    "from nltk.corpus import stopwords\n",
    "from sklearn.decomposition import TruncatedSVD\n",
    "from sklearn.preprocessing import normalize\n",
    "from sklearn.feature_extraction.text import CountVectorizer\n",
    "from sklearn.manifold import TSNE\n",
    "import seaborn as sns\n",
    "from sklearn.neighbors import KNeighborsClassifier\n",
    "from sklearn.metrics import confusion_matrix\n",
    "from sklearn.metrics.classification import accuracy_score, log_loss\n",
    "from sklearn.feature_extraction.text import TfidfVectorizer\n",
    "from sklearn.linear_model import SGDClassifier\n",
    "from imblearn.over_sampling import SMOTE\n",
    "from collections import Counter\n",
    "from scipy.sparse import hstack\n",
    "from sklearn.multiclass import OneVsRestClassifier\n",
    "from sklearn.svm import SVC\n",
    "from sklearn.model_selection import StratifiedKFold \n",
    "from collections import Counter, defaultdict\n",
    "from sklearn.calibration import CalibratedClassifierCV\n",
    "from sklearn.naive_bayes import MultinomialNB\n",
    "from sklearn.naive_bayes import GaussianNB\n",
    "from sklearn.model_selection import train_test_split\n",
    "from sklearn.model_selection import GridSearchCV\n",
    "import math\n",
    "from sklearn.metrics import normalized_mutual_info_score\n",
    "from sklearn.ensemble import RandomForestClassifier\n",
    "warnings.filterwarnings(\"ignore\")\n",
    "\n",
    "from mlxtend.classifier import StackingClassifier\n",
    "\n",
    "from sklearn import model_selection\n",
    "from sklearn.linear_model import LogisticRegression\n"
   ]
  },
  {
   "cell_type": "markdown",
   "metadata": {},
   "source": [
    "<h1>1. Reading Data</h1>"
   ]
  },
  {
   "cell_type": "markdown",
   "metadata": {},
   "source": [
    "<h2>1.1. Reading Gene and Variation Data</h2>"
   ]
  },
  {
   "cell_type": "code",
   "execution_count": 2,
   "metadata": {},
   "outputs": [
    {
     "name": "stdout",
     "output_type": "stream",
     "text": [
      "Number of data points :  3321\n",
      "Number of features :  4\n",
      "Features :  ['ID' 'Gene' 'Variation' 'Class']\n"
     ]
    },
    {
     "data": {
      "text/html": [
       "<div>\n",
       "<style scoped>\n",
       "    .dataframe tbody tr th:only-of-type {\n",
       "        vertical-align: middle;\n",
       "    }\n",
       "\n",
       "    .dataframe tbody tr th {\n",
       "        vertical-align: top;\n",
       "    }\n",
       "\n",
       "    .dataframe thead th {\n",
       "        text-align: right;\n",
       "    }\n",
       "</style>\n",
       "<table border=\"1\" class=\"dataframe\">\n",
       "  <thead>\n",
       "    <tr style=\"text-align: right;\">\n",
       "      <th></th>\n",
       "      <th>ID</th>\n",
       "      <th>Gene</th>\n",
       "      <th>Variation</th>\n",
       "      <th>Class</th>\n",
       "    </tr>\n",
       "  </thead>\n",
       "  <tbody>\n",
       "    <tr>\n",
       "      <th>0</th>\n",
       "      <td>0</td>\n",
       "      <td>FAM58A</td>\n",
       "      <td>Truncating Mutations</td>\n",
       "      <td>1</td>\n",
       "    </tr>\n",
       "    <tr>\n",
       "      <th>1</th>\n",
       "      <td>1</td>\n",
       "      <td>CBL</td>\n",
       "      <td>W802*</td>\n",
       "      <td>2</td>\n",
       "    </tr>\n",
       "    <tr>\n",
       "      <th>2</th>\n",
       "      <td>2</td>\n",
       "      <td>CBL</td>\n",
       "      <td>Q249E</td>\n",
       "      <td>2</td>\n",
       "    </tr>\n",
       "    <tr>\n",
       "      <th>3</th>\n",
       "      <td>3</td>\n",
       "      <td>CBL</td>\n",
       "      <td>N454D</td>\n",
       "      <td>3</td>\n",
       "    </tr>\n",
       "    <tr>\n",
       "      <th>4</th>\n",
       "      <td>4</td>\n",
       "      <td>CBL</td>\n",
       "      <td>L399V</td>\n",
       "      <td>4</td>\n",
       "    </tr>\n",
       "  </tbody>\n",
       "</table>\n",
       "</div>"
      ],
      "text/plain": [
       "   ID    Gene             Variation  Class\n",
       "0   0  FAM58A  Truncating Mutations      1\n",
       "1   1     CBL                 W802*      2\n",
       "2   2     CBL                 Q249E      2\n",
       "3   3     CBL                 N454D      3\n",
       "4   4     CBL                 L399V      4"
      ]
     },
     "execution_count": 2,
     "metadata": {},
     "output_type": "execute_result"
    }
   ],
   "source": [
    "data = pd.read_csv('training_variants')\n",
    "print('Number of data points : ', data.shape[0])\n",
    "print('Number of features : ', data.shape[1])\n",
    "print('Features : ', data.columns.values)\n",
    "data.head()"
   ]
  },
  {
   "cell_type": "markdown",
   "metadata": {},
   "source": [
    "<p>\n",
    "    training/training_variants is a comma separated file containing the description of the genetic mutations used for training. <br>\n",
    "    Fields are \n",
    "    <ul>\n",
    "        <li><b>ID : </b>the id of the row used to link the mutation to the clinical evidence</li>\n",
    "        <li><b>Gene : </b>the gene where this genetic mutation is located </li>\n",
    "        <li><b>Variation : </b>the aminoacid change for this mutations </li>\n",
    "        <li><b>Class :</b> 1-9 the class this genetic mutation has been classified on</li>\n",
    "    </ul>"
   ]
  },
  {
   "cell_type": "markdown",
   "metadata": {},
   "source": [
    "<h2>1.2. Reading Text Data</h2>"
   ]
  },
  {
   "cell_type": "code",
   "execution_count": 3,
   "metadata": {},
   "outputs": [
    {
     "name": "stdout",
     "output_type": "stream",
     "text": [
      "Number of data points :  3321\n",
      "Number of features :  2\n",
      "Features :  ['ID' 'TEXT']\n"
     ]
    },
    {
     "data": {
      "text/html": [
       "<div>\n",
       "<style scoped>\n",
       "    .dataframe tbody tr th:only-of-type {\n",
       "        vertical-align: middle;\n",
       "    }\n",
       "\n",
       "    .dataframe tbody tr th {\n",
       "        vertical-align: top;\n",
       "    }\n",
       "\n",
       "    .dataframe thead th {\n",
       "        text-align: right;\n",
       "    }\n",
       "</style>\n",
       "<table border=\"1\" class=\"dataframe\">\n",
       "  <thead>\n",
       "    <tr style=\"text-align: right;\">\n",
       "      <th></th>\n",
       "      <th>ID</th>\n",
       "      <th>TEXT</th>\n",
       "    </tr>\n",
       "  </thead>\n",
       "  <tbody>\n",
       "    <tr>\n",
       "      <th>0</th>\n",
       "      <td>0</td>\n",
       "      <td>Cyclin-dependent kinases (CDKs) regulate a var...</td>\n",
       "    </tr>\n",
       "    <tr>\n",
       "      <th>1</th>\n",
       "      <td>1</td>\n",
       "      <td>Abstract Background  Non-small cell lung canc...</td>\n",
       "    </tr>\n",
       "    <tr>\n",
       "      <th>2</th>\n",
       "      <td>2</td>\n",
       "      <td>Abstract Background  Non-small cell lung canc...</td>\n",
       "    </tr>\n",
       "    <tr>\n",
       "      <th>3</th>\n",
       "      <td>3</td>\n",
       "      <td>Recent evidence has demonstrated that acquired...</td>\n",
       "    </tr>\n",
       "    <tr>\n",
       "      <th>4</th>\n",
       "      <td>4</td>\n",
       "      <td>Oncogenic mutations in the monomeric Casitas B...</td>\n",
       "    </tr>\n",
       "  </tbody>\n",
       "</table>\n",
       "</div>"
      ],
      "text/plain": [
       "   ID                                               TEXT\n",
       "0   0  Cyclin-dependent kinases (CDKs) regulate a var...\n",
       "1   1   Abstract Background  Non-small cell lung canc...\n",
       "2   2   Abstract Background  Non-small cell lung canc...\n",
       "3   3  Recent evidence has demonstrated that acquired...\n",
       "4   4  Oncogenic mutations in the monomeric Casitas B..."
      ]
     },
     "execution_count": 3,
     "metadata": {},
     "output_type": "execute_result"
    }
   ],
   "source": [
    "# note the seprator in this file\n",
    "data_text =pd.read_csv(\"training_text\",sep=\"\\|\\|\",engine=\"python\",names=[\"ID\",\"TEXT\"],skiprows=1)\n",
    "print('Number of data points : ', data_text.shape[0])\n",
    "print('Number of features : ', data_text.shape[1])\n",
    "print('Features : ', data_text.columns.values)\n",
    "data_text.head()"
   ]
  },
  {
   "cell_type": "markdown",
   "metadata": {},
   "source": [
    "<h2>1.3. Preprocessing of text</h2>"
   ]
  },
  {
   "cell_type": "code",
   "execution_count": 4,
   "metadata": {},
   "outputs": [],
   "source": [
    "# loading stop words from nltk library\n",
    "stop_words = set(stopwords.words('english'))\n",
    "\n",
    "\n",
    "def nlp_preprocessing(total_text, index, column):\n",
    "    if type(total_text) is not int:\n",
    "        string = \"\"\n",
    "        # replace every special char with space\n",
    "        total_text = re.sub('[^a-zA-Z0-9\\n]', ' ', total_text)\n",
    "        # replace multiple spaces with single space\n",
    "        total_text = re.sub('\\s+',' ', total_text)\n",
    "        # converting all the chars into lower-case.\n",
    "        total_text = total_text.lower()\n",
    "        \n",
    "        for word in total_text.split():\n",
    "        # if the word is a not a stop word then retain that word from the data\n",
    "            if not word in stop_words:\n",
    "                string += word + \" \"\n",
    "        \n",
    "        data_text[column][index] = string"
   ]
  },
  {
   "cell_type": "code",
   "execution_count": 5,
   "metadata": {},
   "outputs": [
    {
     "name": "stdout",
     "output_type": "stream",
     "text": [
      "there is no text description for id: 1109\n",
      "there is no text description for id: 1277\n",
      "there is no text description for id: 1407\n",
      "there is no text description for id: 1639\n",
      "there is no text description for id: 2755\n",
      "Time took for preprocessing the text : 123.23308660799998 seconds\n"
     ]
    }
   ],
   "source": [
    "#text processing stage.\n",
    "start_time = time.clock()\n",
    "for index, row in data_text.iterrows():\n",
    "    if type(row['TEXT']) is str:\n",
    "        nlp_preprocessing(row['TEXT'], index, 'TEXT')\n",
    "    else:\n",
    "        print(\"there is no text description for id:\",index)\n",
    "print('Time took for preprocessing the text :',time.clock() - start_time, \"seconds\")"
   ]
  },
  {
   "cell_type": "code",
   "execution_count": 6,
   "metadata": {},
   "outputs": [
    {
     "data": {
      "text/html": [
       "<div>\n",
       "<style scoped>\n",
       "    .dataframe tbody tr th:only-of-type {\n",
       "        vertical-align: middle;\n",
       "    }\n",
       "\n",
       "    .dataframe tbody tr th {\n",
       "        vertical-align: top;\n",
       "    }\n",
       "\n",
       "    .dataframe thead th {\n",
       "        text-align: right;\n",
       "    }\n",
       "</style>\n",
       "<table border=\"1\" class=\"dataframe\">\n",
       "  <thead>\n",
       "    <tr style=\"text-align: right;\">\n",
       "      <th></th>\n",
       "      <th>ID</th>\n",
       "      <th>Gene</th>\n",
       "      <th>Variation</th>\n",
       "      <th>Class</th>\n",
       "      <th>TEXT</th>\n",
       "    </tr>\n",
       "  </thead>\n",
       "  <tbody>\n",
       "    <tr>\n",
       "      <th>0</th>\n",
       "      <td>0</td>\n",
       "      <td>FAM58A</td>\n",
       "      <td>Truncating Mutations</td>\n",
       "      <td>1</td>\n",
       "      <td>cyclin dependent kinases cdks regulate variety...</td>\n",
       "    </tr>\n",
       "    <tr>\n",
       "      <th>1</th>\n",
       "      <td>1</td>\n",
       "      <td>CBL</td>\n",
       "      <td>W802*</td>\n",
       "      <td>2</td>\n",
       "      <td>abstract background non small cell lung cancer...</td>\n",
       "    </tr>\n",
       "    <tr>\n",
       "      <th>2</th>\n",
       "      <td>2</td>\n",
       "      <td>CBL</td>\n",
       "      <td>Q249E</td>\n",
       "      <td>2</td>\n",
       "      <td>abstract background non small cell lung cancer...</td>\n",
       "    </tr>\n",
       "    <tr>\n",
       "      <th>3</th>\n",
       "      <td>3</td>\n",
       "      <td>CBL</td>\n",
       "      <td>N454D</td>\n",
       "      <td>3</td>\n",
       "      <td>recent evidence demonstrated acquired uniparen...</td>\n",
       "    </tr>\n",
       "    <tr>\n",
       "      <th>4</th>\n",
       "      <td>4</td>\n",
       "      <td>CBL</td>\n",
       "      <td>L399V</td>\n",
       "      <td>4</td>\n",
       "      <td>oncogenic mutations monomeric casitas b lineag...</td>\n",
       "    </tr>\n",
       "  </tbody>\n",
       "</table>\n",
       "</div>"
      ],
      "text/plain": [
       "   ID    Gene             Variation  Class  \\\n",
       "0   0  FAM58A  Truncating Mutations      1   \n",
       "1   1     CBL                 W802*      2   \n",
       "2   2     CBL                 Q249E      2   \n",
       "3   3     CBL                 N454D      3   \n",
       "4   4     CBL                 L399V      4   \n",
       "\n",
       "                                                TEXT  \n",
       "0  cyclin dependent kinases cdks regulate variety...  \n",
       "1  abstract background non small cell lung cancer...  \n",
       "2  abstract background non small cell lung cancer...  \n",
       "3  recent evidence demonstrated acquired uniparen...  \n",
       "4  oncogenic mutations monomeric casitas b lineag...  "
      ]
     },
     "execution_count": 6,
     "metadata": {},
     "output_type": "execute_result"
    }
   ],
   "source": [
    "#merging both gene_variations and text data based on ID\n",
    "result = pd.merge(data, data_text,on='ID', how='left')\n",
    "result.head()"
   ]
  },
  {
   "cell_type": "code",
   "execution_count": 7,
   "metadata": {},
   "outputs": [
    {
     "data": {
      "text/html": [
       "<div>\n",
       "<style scoped>\n",
       "    .dataframe tbody tr th:only-of-type {\n",
       "        vertical-align: middle;\n",
       "    }\n",
       "\n",
       "    .dataframe tbody tr th {\n",
       "        vertical-align: top;\n",
       "    }\n",
       "\n",
       "    .dataframe thead th {\n",
       "        text-align: right;\n",
       "    }\n",
       "</style>\n",
       "<table border=\"1\" class=\"dataframe\">\n",
       "  <thead>\n",
       "    <tr style=\"text-align: right;\">\n",
       "      <th></th>\n",
       "      <th>ID</th>\n",
       "      <th>Gene</th>\n",
       "      <th>Variation</th>\n",
       "      <th>Class</th>\n",
       "      <th>TEXT</th>\n",
       "    </tr>\n",
       "  </thead>\n",
       "  <tbody>\n",
       "    <tr>\n",
       "      <th>1109</th>\n",
       "      <td>1109</td>\n",
       "      <td>FANCA</td>\n",
       "      <td>S1088F</td>\n",
       "      <td>1</td>\n",
       "      <td>NaN</td>\n",
       "    </tr>\n",
       "    <tr>\n",
       "      <th>1277</th>\n",
       "      <td>1277</td>\n",
       "      <td>ARID5B</td>\n",
       "      <td>Truncating Mutations</td>\n",
       "      <td>1</td>\n",
       "      <td>NaN</td>\n",
       "    </tr>\n",
       "    <tr>\n",
       "      <th>1407</th>\n",
       "      <td>1407</td>\n",
       "      <td>FGFR3</td>\n",
       "      <td>K508M</td>\n",
       "      <td>6</td>\n",
       "      <td>NaN</td>\n",
       "    </tr>\n",
       "    <tr>\n",
       "      <th>1639</th>\n",
       "      <td>1639</td>\n",
       "      <td>FLT1</td>\n",
       "      <td>Amplification</td>\n",
       "      <td>6</td>\n",
       "      <td>NaN</td>\n",
       "    </tr>\n",
       "    <tr>\n",
       "      <th>2755</th>\n",
       "      <td>2755</td>\n",
       "      <td>BRAF</td>\n",
       "      <td>G596C</td>\n",
       "      <td>7</td>\n",
       "      <td>NaN</td>\n",
       "    </tr>\n",
       "  </tbody>\n",
       "</table>\n",
       "</div>"
      ],
      "text/plain": [
       "        ID    Gene             Variation  Class TEXT\n",
       "1109  1109   FANCA                S1088F      1  NaN\n",
       "1277  1277  ARID5B  Truncating Mutations      1  NaN\n",
       "1407  1407   FGFR3                 K508M      6  NaN\n",
       "1639  1639    FLT1         Amplification      6  NaN\n",
       "2755  2755    BRAF                 G596C      7  NaN"
      ]
     },
     "execution_count": 7,
     "metadata": {},
     "output_type": "execute_result"
    }
   ],
   "source": [
    "result[result.isnull().any(axis=1)]"
   ]
  },
  {
   "cell_type": "code",
   "execution_count": 8,
   "metadata": {},
   "outputs": [],
   "source": [
    "result.loc[result['TEXT'].isnull(),'TEXT'] = result['Gene'] +' '+result['Variation']"
   ]
  },
  {
   "cell_type": "code",
   "execution_count": 9,
   "metadata": {},
   "outputs": [
    {
     "data": {
      "text/html": [
       "<div>\n",
       "<style scoped>\n",
       "    .dataframe tbody tr th:only-of-type {\n",
       "        vertical-align: middle;\n",
       "    }\n",
       "\n",
       "    .dataframe tbody tr th {\n",
       "        vertical-align: top;\n",
       "    }\n",
       "\n",
       "    .dataframe thead th {\n",
       "        text-align: right;\n",
       "    }\n",
       "</style>\n",
       "<table border=\"1\" class=\"dataframe\">\n",
       "  <thead>\n",
       "    <tr style=\"text-align: right;\">\n",
       "      <th></th>\n",
       "      <th>ID</th>\n",
       "      <th>Gene</th>\n",
       "      <th>Variation</th>\n",
       "      <th>Class</th>\n",
       "      <th>TEXT</th>\n",
       "    </tr>\n",
       "  </thead>\n",
       "  <tbody>\n",
       "    <tr>\n",
       "      <th>1109</th>\n",
       "      <td>1109</td>\n",
       "      <td>FANCA</td>\n",
       "      <td>S1088F</td>\n",
       "      <td>1</td>\n",
       "      <td>FANCA S1088F</td>\n",
       "    </tr>\n",
       "  </tbody>\n",
       "</table>\n",
       "</div>"
      ],
      "text/plain": [
       "        ID   Gene Variation  Class          TEXT\n",
       "1109  1109  FANCA    S1088F      1  FANCA S1088F"
      ]
     },
     "execution_count": 9,
     "metadata": {},
     "output_type": "execute_result"
    }
   ],
   "source": [
    "result[result['ID']==1109]"
   ]
  },
  {
   "cell_type": "markdown",
   "metadata": {},
   "source": [
    "<h2>1.4. Test, Train and Cross Validation Split</h2>"
   ]
  },
  {
   "cell_type": "markdown",
   "metadata": {},
   "source": [
    "<h3>1.4.1. Splitting data into train, test and cross validation (64:20:16)</h3>"
   ]
  },
  {
   "cell_type": "code",
   "execution_count": 10,
   "metadata": {},
   "outputs": [],
   "source": [
    "y_true = result['Class'].values\n",
    "result.Gene      = result.Gene.str.replace('\\s+', '_')\n",
    "result.Variation = result.Variation.str.replace('\\s+', '_')\n",
    "\n",
    "# split the data into test and train by maintaining same distribution of output varaible 'y_true' [stratify=y_true]\n",
    "X_train, test_df, y_train, y_test = train_test_split(result, y_true, stratify=y_true, test_size=0.2)\n",
    "# split the train data into train and cross validation by maintaining same distribution of output varaible 'y_train' [stratify=y_train]\n",
    "train_df, cv_df, y_train, y_cv = train_test_split(X_train, y_train, stratify=y_train, test_size=0.2)"
   ]
  },
  {
   "cell_type": "markdown",
   "metadata": {},
   "source": [
    "<p> We split the data into train, test and cross validation data sets, preserving the ratio of class distribution in the original data set  </p>"
   ]
  },
  {
   "cell_type": "code",
   "execution_count": 11,
   "metadata": {},
   "outputs": [
    {
     "name": "stdout",
     "output_type": "stream",
     "text": [
      "Number of data points in train data: 2124\n",
      "Number of data points in test data: 665\n",
      "Number of data points in cross validation data: 532\n"
     ]
    }
   ],
   "source": [
    "print('Number of data points in train data:', train_df.shape[0])\n",
    "print('Number of data points in test data:', test_df.shape[0])\n",
    "print('Number of data points in cross validation data:', cv_df.shape[0])"
   ]
  },
  {
   "cell_type": "code",
   "execution_count": 13,
   "metadata": {},
   "outputs": [],
   "source": [
    "# This function plots the confusion matrices given y_i, y_i_hat.\n",
    "def plot_confusion_matrix(test_y, predict_y):\n",
    "    C = confusion_matrix(test_y, predict_y)\n",
    "    # C = 9,9 matrix, each cell (i,j) represents number of points of class i are predicted class j\n",
    "    \n",
    "    A =(((C.T)/(C.sum(axis=1))).T)\n",
    "    #divid each element of the confusion matrix with the sum of elements in that column\n",
    "    \n",
    "    # C = [[1, 2],\n",
    "    #     [3, 4]]\n",
    "    # C.T = [[1, 3],\n",
    "    #        [2, 4]]\n",
    "    # C.sum(axis = 1)  axis=0 corresonds to columns and axis=1 corresponds to rows in two diamensional array\n",
    "    # C.sum(axix =1) = [[3, 7]]\n",
    "    # ((C.T)/(C.sum(axis=1))) = [[1/3, 3/7]\n",
    "    #                           [2/3, 4/7]]\n",
    "\n",
    "    # ((C.T)/(C.sum(axis=1))).T = [[1/3, 2/3]\n",
    "    #                           [3/7, 4/7]]\n",
    "    # sum of row elements = 1\n",
    "    \n",
    "    B =(C/C.sum(axis=0))\n",
    "    #divid each element of the confusion matrix with the sum of elements in that row\n",
    "    # C = [[1, 2],\n",
    "    #     [3, 4]]\n",
    "    # C.sum(axis = 0)  axis=0 corresonds to columns and axis=1 corresponds to rows in two diamensional array\n",
    "    # C.sum(axix =0) = [[4, 6]]\n",
    "    # (C/C.sum(axis=0)) = [[1/4, 2/6],\n",
    "    #                      [3/4, 4/6]] \n",
    "    \n",
    "    labels = [1,2,3,4,5,6,7,8,9]\n",
    "    # representing A in heatmap format\n",
    "    print(\"-\"*20, \"Confusion matrix\", \"-\"*20)\n",
    "    plt.figure(figsize=(20,7))\n",
    "    sns.heatmap(C, annot=True, cmap=\"YlGnBu\", fmt=\".3f\", xticklabels=labels, yticklabels=labels)\n",
    "    plt.xlabel('Predicted Class')\n",
    "    plt.ylabel('Original Class')\n",
    "    plt.show()\n",
    "\n",
    "    print(\"-\"*20, \"Precision matrix (Columm Sum=1)\", \"-\"*20)\n",
    "    plt.figure(figsize=(20,7))\n",
    "    sns.heatmap(B, annot=True, cmap=\"YlGnBu\", fmt=\".3f\", xticklabels=labels, yticklabels=labels)\n",
    "    plt.xlabel('Predicted Class')\n",
    "    plt.ylabel('Original Class')\n",
    "    plt.show()\n",
    "    \n",
    "    # representing B in heatmap format\n",
    "    print(\"-\"*20, \"Recall matrix (Row sum=1)\", \"-\"*20)\n",
    "    plt.figure(figsize=(20,7))\n",
    "    sns.heatmap(A, annot=True, cmap=\"YlGnBu\", fmt=\".3f\", xticklabels=labels, yticklabels=labels)\n",
    "    plt.xlabel('Predicted Class')\n",
    "    plt.ylabel('Original Class')\n",
    "    plt.show()"
   ]
  },
  {
   "cell_type": "markdown",
   "metadata": {},
   "source": [
    "<h1> 2. Vectorizations </h1>"
   ]
  },
  {
   "cell_type": "markdown",
   "metadata": {},
   "source": [
    "<h2> 2.1 Gene Feature</h2>"
   ]
  },
  {
   "cell_type": "code",
   "execution_count": 22,
   "metadata": {},
   "outputs": [],
   "source": [
    "# one-hot encoding of Gene feature.\n",
    "gene_vectorizer = CountVectorizer()\n",
    "train_gene_feature_onehotCoding = gene_vectorizer.fit_transform(train_df['Gene'])\n",
    "test_gene_feature_onehotCoding = gene_vectorizer.transform(test_df['Gene'])\n",
    "cv_gene_feature_onehotCoding = gene_vectorizer.transform(cv_df['Gene'])"
   ]
  },
  {
   "cell_type": "code",
   "execution_count": 25,
   "metadata": {},
   "outputs": [
    {
     "name": "stdout",
     "output_type": "stream",
     "text": [
      "train_gene_feature_onehotCoding is converted feature using one-hot encoding method. The shape of gene feature: (2124, 233)\n"
     ]
    }
   ],
   "source": [
    "print(\"train_gene_feature_onehotCoding is converted feature using one-hot encoding method. The shape of gene feature:\", train_gene_feature_onehotCoding.shape)"
   ]
  },
  {
   "cell_type": "markdown",
   "metadata": {},
   "source": [
    "<h2> 2.2 Variation Feature </h2>"
   ]
  },
  {
   "cell_type": "code",
   "execution_count": 34,
   "metadata": {},
   "outputs": [],
   "source": [
    "# one-hot encoding of variation feature.\n",
    "variation_vectorizer = CountVectorizer()\n",
    "train_variation_feature_onehotCoding = variation_vectorizer.fit_transform(train_df['Variation'])\n",
    "test_variation_feature_onehotCoding = variation_vectorizer.transform(test_df['Variation'])\n",
    "cv_variation_feature_onehotCoding = variation_vectorizer.transform(cv_df['Variation'])"
   ]
  },
  {
   "cell_type": "code",
   "execution_count": 35,
   "metadata": {},
   "outputs": [
    {
     "name": "stdout",
     "output_type": "stream",
     "text": [
      "train_variation_feature_onehotEncoded is converted feature using the onne-hot encoding method. The shape of Variation feature: (2124, 1964)\n"
     ]
    }
   ],
   "source": [
    "print(\"train_variation_feature_onehotEncoded is converted feature using the onne-hot encoding method. The shape of Variation feature:\", train_variation_feature_onehotCoding.shape)"
   ]
  },
  {
   "cell_type": "markdown",
   "metadata": {},
   "source": [
    "<h2>2.3 Text Feature</h2>"
   ]
  },
  {
   "cell_type": "code",
   "execution_count": 38,
   "metadata": {},
   "outputs": [],
   "source": [
    "# cls_text is a data frame\n",
    "# for every row in data fram consider the 'TEXT'\n",
    "# split the words by space\n",
    "# make a dict with those words\n",
    "# increment its count whenever we see that word\n",
    "\n",
    "def extract_dictionary_paddle(cls_text):\n",
    "    dictionary = defaultdict(int)\n",
    "    for index, row in cls_text.iterrows():\n",
    "        for word in row['TEXT'].split():\n",
    "            dictionary[word] +=1\n",
    "    return dictionary"
   ]
  },
  {
   "cell_type": "code",
   "execution_count": 39,
   "metadata": {},
   "outputs": [],
   "source": [
    "import math\n",
    "#https://stackoverflow.com/a/1602964\n",
    "def get_text_responsecoding(df):\n",
    "    text_feature_responseCoding = np.zeros((df.shape[0],9))\n",
    "    for i in range(0,9):\n",
    "        row_index = 0\n",
    "        for index, row in df.iterrows():\n",
    "            sum_prob = 0\n",
    "            for word in row['TEXT'].split():\n",
    "                sum_prob += math.log(((dict_list[i].get(word,0)+10 )/(total_dict.get(word,0)+90)))\n",
    "            text_feature_responseCoding[row_index][i] = math.exp(sum_prob/len(row['TEXT'].split()))\n",
    "            row_index += 1\n",
    "    return text_feature_responseCoding"
   ]
  },
  {
   "cell_type": "code",
   "execution_count": 40,
   "metadata": {},
   "outputs": [
    {
     "name": "stdout",
     "output_type": "stream",
     "text": [
      "Total number of unique words in train data : 2000\n"
     ]
    }
   ],
   "source": [
    "# building a CountVectorizer with all the words that occured minimum 3 times in train data\n",
    "text_vectorizer = TfidfVectorizer(max_features=2000, ngram_range=(1,4))\n",
    "train_text_feature_onehotCoding = text_vectorizer.fit_transform(train_df['TEXT'])\n",
    "# getting all the feature names (words)\n",
    "train_text_features= text_vectorizer.get_feature_names()\n",
    "\n",
    "# train_text_feature_onehotCoding.sum(axis=0).A1 will sum every row and returns (1*number of features) vector\n",
    "train_text_fea_counts = train_text_feature_onehotCoding.sum(axis=0).A1\n",
    "\n",
    "# zip(list(text_features),text_fea_counts) will zip a word with its number of times it occured\n",
    "text_fea_dict = dict(zip(list(train_text_features),train_text_fea_counts))\n",
    "\n",
    "\n",
    "print(\"Total number of unique words in train data :\", len(train_text_features))"
   ]
  },
  {
   "cell_type": "code",
   "execution_count": 41,
   "metadata": {},
   "outputs": [],
   "source": [
    "dict_list = []\n",
    "# dict_list =[] contains 9 dictoinaries each corresponds to a class\n",
    "for i in range(1,10):\n",
    "    cls_text = train_df[train_df['Class']==i]\n",
    "    # build a word dict based on the words in that class\n",
    "    dict_list.append(extract_dictionary_paddle(cls_text))\n",
    "    # append it to dict_list\n",
    "\n",
    "# dict_list[i] is build on i'th  class text data\n",
    "# total_dict is buid on whole training text data\n",
    "total_dict = extract_dictionary_paddle(train_df)\n",
    "\n",
    "\n",
    "confuse_array = []\n",
    "for i in train_text_features:\n",
    "    ratios = []\n",
    "    max_val = -1\n",
    "    for j in range(0,9):\n",
    "        ratios.append((dict_list[j][i]+10)/(total_dict[i]+90))\n",
    "    confuse_array.append(ratios)\n",
    "confuse_array = np.array(confuse_array)"
   ]
  },
  {
   "cell_type": "code",
   "execution_count": 44,
   "metadata": {},
   "outputs": [],
   "source": [
    "# don't forget to normalize every feature\n",
    "train_text_feature_onehotCoding = normalize(train_text_feature_onehotCoding, axis=0)\n",
    "\n",
    "# we use the same vectorizer that was trained on train data\n",
    "test_text_feature_onehotCoding = text_vectorizer.transform(test_df['TEXT'])\n",
    "# don't forget to normalize every feature\n",
    "test_text_feature_onehotCoding = normalize(test_text_feature_onehotCoding, axis=0)\n",
    "\n",
    "# we use the same vectorizer that was trained on train data\n",
    "cv_text_feature_onehotCoding = text_vectorizer.transform(cv_df['TEXT'])\n",
    "# don't forget to normalize every feature\n",
    "cv_text_feature_onehotCoding = normalize(cv_text_feature_onehotCoding, axis=0)"
   ]
  },
  {
   "cell_type": "code",
   "execution_count": 45,
   "metadata": {},
   "outputs": [],
   "source": [
    "#https://stackoverflow.com/a/2258273/4084039\n",
    "sorted_text_fea_dict = dict(sorted(text_fea_dict.items(), key=lambda x: x[1] , reverse=True))\n",
    "sorted_text_occur = np.array(list(sorted_text_fea_dict.values()))"
   ]
  },
  {
   "cell_type": "code",
   "execution_count": 46,
   "metadata": {},
   "outputs": [
    {
     "name": "stdout",
     "output_type": "stream",
     "text": [
      "Counter({8.272364362597138: 6, 12.40854654389569: 5, 6.4979629970252315: 3, 6.235281063366313: 3, 9.666700205860957: 2, 9.529903535567929: 2, 9.442161808000831: 2, 8.85456135618789: 2, 8.148995976048742: 2, 8.0690964794053: 2, 7.915777628140105: 2, 7.830153324344945: 2, 7.305068990890354: 2, 7.176265737885055: 2, 6.82000602935522: 2, 6.645894910808911: 2, 6.565344048977317: 2, 6.5199126843026995: 2, 6.517669287189776: 2, 4.78039206189281: 2, 215.85577130290002: 1, 141.78186521836767: 1, 110.94147293447854: 1, 109.79132644783462: 1, 103.68941711855587: 1, 97.2159585880582: 1, 93.28248596525374: 1, 93.19984526441247: 1, 92.95597577455351: 1, 92.72392882227591: 1, 89.18715660126757: 1, 87.06602541987584: 1, 77.32466376641517: 1, 73.01105233308661: 1, 71.62313850017158: 1, 71.51453796402868: 1, 70.70344764534477: 1, 65.64917570912792: 1, 65.1134016903522: 1, 64.81325004395414: 1, 64.59526199128673: 1, 62.63533929340048: 1, 61.133422256570086: 1, 59.121667030204506: 1, 58.33755279157831: 1, 56.06276672189166: 1, 55.84480148382408: 1, 54.78578978130293: 1, 54.68825160103793: 1, 54.48843411394219: 1, 53.51237859100978: 1, 52.61034743721009: 1, 52.19941971382807: 1, 50.783540424230004: 1, 50.49182031770784: 1, 50.03895977113676: 1, 49.64629445562284: 1, 47.890069797374494: 1, 47.28615908661756: 1, 46.737226672748825: 1, 46.38791079190217: 1, 45.11061289003577: 1, 44.64889833746615: 1, 42.57673417731716: 1, 41.81358476738121: 1, 41.23455154451627: 1, 41.08128003745503: 1, 39.42173098543673: 1, 39.16380827417813: 1, 38.31290264394874: 1, 37.86774386602571: 1, 37.141385047966125: 1, 37.11219525016961: 1, 36.99680549629184: 1, 36.61517889335972: 1, 36.28705768354853: 1, 35.94397030254917: 1, 35.77339541853921: 1, 35.560344914306754: 1, 35.501319973454535: 1, 35.3839789704343: 1, 35.34616500602159: 1, 35.18843713516491: 1, 34.99574548668071: 1, 34.995438559635396: 1, 34.863254483708616: 1, 34.853267563942275: 1, 34.82293683083612: 1, 34.427745639630565: 1, 34.19110722215907: 1, 34.105542114063155: 1, 33.92140172762984: 1, 33.46124958805745: 1, 32.965282375980536: 1, 32.94469679506134: 1, 32.43960692321252: 1, 32.050598915850145: 1, 31.555814634211703: 1, 31.17225693988394: 1, 30.464857383325338: 1, 30.15302891080387: 1, 30.103070603081537: 1, 29.741092289993254: 1, 29.7371647554202: 1, 29.45347444174323: 1, 29.336183425045114: 1, 29.32838793923892: 1, 29.319426389841826: 1, 29.286150257792556: 1, 29.265427554932256: 1, 28.859420796193543: 1, 28.75717490094583: 1, 28.581844781917855: 1, 28.575415611605244: 1, 28.461096035812126: 1, 27.65600090157596: 1, 27.457508401321213: 1, 27.08751539352034: 1, 26.93016728087522: 1, 26.885143933413097: 1, 26.878736538607455: 1, 26.82020179301604: 1, 26.773484096170733: 1, 26.455338742264914: 1, 26.41157059976745: 1, 26.3055534976098: 1, 26.281429795968815: 1, 26.172752524473324: 1, 26.117715365666896: 1, 26.06971357216729: 1, 26.05179376380651: 1, 26.041611144411096: 1, 25.906098604290907: 1, 25.837360656647643: 1, 25.655300884589597: 1, 25.45780145128069: 1, 25.284220757092914: 1, 25.122997132418554: 1, 25.09855854623503: 1, 25.072614644085927: 1, 24.984745052692354: 1, 24.923464508376696: 1, 24.872786472971104: 1, 24.850204707600952: 1, 24.84523067328788: 1, 24.68690746761108: 1, 24.505755950713745: 1, 24.474274481856202: 1, 24.45309943001327: 1, 24.45177929939011: 1, 24.356042570955093: 1, 24.106389070465518: 1, 23.810902113343232: 1, 23.700154052868573: 1, 23.667713625820223: 1, 23.627051897979598: 1, 23.62704489673699: 1, 23.623255816123265: 1, 23.459728230138996: 1, 23.440914801549827: 1, 23.35868039930202: 1, 23.35034984302486: 1, 23.29876195930465: 1, 23.015097272421787: 1, 22.894065092187194: 1, 22.650137927825213: 1, 22.191834023220547: 1, 22.179622220373357: 1, 22.078919460991056: 1, 22.012907082398485: 1, 21.96575611278372: 1, 21.72036575210517: 1, 21.58968273938832: 1, 21.546215468775124: 1, 21.529278735856668: 1, 21.497579802199596: 1, 21.49303969988726: 1, 21.389125986361677: 1, 21.21860793921293: 1, 21.14466951254301: 1, 21.13853952072234: 1, 21.061056129347573: 1, 21.032198543442718: 1, 21.01972111606157: 1, 21.000232742336756: 1, 20.992805785188743: 1, 20.986799699994258: 1, 20.937977893707366: 1, 20.83114061666796: 1, 20.690345651673958: 1, 20.68822981044838: 1, 20.670168442561405: 1, 20.442329278059713: 1, 20.39065913403899: 1, 20.38446671826634: 1, 20.355902724283162: 1, 20.28600111608132: 1, 20.218189188634454: 1, 20.088131170098634: 1, 20.060461340823604: 1, 20.055743103447178: 1, 19.88529776305036: 1, 19.84435368847119: 1, 19.70104420725456: 1, 19.65152818228503: 1, 19.622276921334848: 1, 19.56713491834265: 1, 19.55638540807995: 1, 19.43525552350434: 1, 19.42754233238613: 1, 19.424385449415663: 1, 19.37932446308325: 1, 19.363828829639676: 1, 19.26101430440035: 1, 19.243095029568728: 1, 19.17231740421001: 1, 19.134323939382643: 1, 19.12085506627537: 1, 19.115392982417603: 1, 19.096511724165417: 1, 19.05076212147872: 1, 19.03613128021816: 1, 18.9710681240253: 1, 18.958092197225255: 1, 18.911071039817205: 1, 18.882962965416212: 1, 18.816353240019993: 1, 18.813291005044686: 1, 18.803164920961198: 1, 18.71803491150075: 1, 18.645630440805: 1, 18.58986065564252: 1, 18.58668422614026: 1, 18.439289025651103: 1, 18.37639484464205: 1, 18.3740390272228: 1, 18.280583242228417: 1, 18.236720758108856: 1, 18.188299089574233: 1, 18.18262552746091: 1, 18.155949594706893: 1, 18.150353783002764: 1, 18.132461213859237: 1, 18.115594272003264: 1, 18.115241882644806: 1, 18.072576367197524: 1, 17.93343895368523: 1, 17.897305334223798: 1, 17.83302407207008: 1, 17.831244883464286: 1, 17.823465156869016: 1, 17.791154144971138: 1, 17.78212006250588: 1, 17.77860541419975: 1, 17.75210794283032: 1, 17.697181796073203: 1, 17.68822373602797: 1, 17.635319245925896: 1, 17.61028204430866: 1, 17.59355090659562: 1, 17.543412359134713: 1, 17.51767231919528: 1, 17.4477870542833: 1, 17.441172279892818: 1, 17.420723051185135: 1, 17.40632132007933: 1, 17.401610011455816: 1, 17.322845103571986: 1, 17.320378988485935: 1, 17.312679249950264: 1, 17.255576206173405: 1, 17.210018293549112: 1, 17.209069304569567: 1, 17.200932430849722: 1, 17.19300670252344: 1, 16.963312527537358: 1, 16.93511412327619: 1, 16.897510999468025: 1, 16.884083669640503: 1, 16.877647843758744: 1, 16.864448070950164: 1, 16.834319767186393: 1, 16.809828664616713: 1, 16.80938842367012: 1, 16.77601744417047: 1, 16.706602539771076: 1, 16.64414927866638: 1, 16.6140405775352: 1, 16.57565778657203: 1, 16.53681822276338: 1, 16.498657628851976: 1, 16.474812375399825: 1, 16.458393836700996: 1, 16.420674679283145: 1, 16.413559512046216: 1, 16.342561741853007: 1, 16.318649959252696: 1, 16.305757651389907: 1, 16.297826552170488: 1, 16.268405846157385: 1, 16.261202072114468: 1, 16.239205025657625: 1, 16.211512863548137: 1, 16.19859266479934: 1, 16.19279259203616: 1, 16.19192238837128: 1, 16.18958810347175: 1, 16.18934442576938: 1, 16.08687156554602: 1, 16.02346018273589: 1, 15.97536150753167: 1, 15.972257634230782: 1, 15.94256001693847: 1, 15.914718082535728: 1, 15.900957066205237: 1, 15.823803746394342: 1, 15.81787663999459: 1, 15.812353402387977: 1, 15.802534159232716: 1, 15.780868767578276: 1, 15.756444124961238: 1, 15.744758934252912: 1, 15.694255270064012: 1, 15.676491269782655: 1, 15.670354941876615: 1, 15.63264045034809: 1, 15.622267660809813: 1, 15.580079553009174: 1, 15.570965782821398: 1, 15.513250367423895: 1, 15.512869375490984: 1, 15.475834647085732: 1, 15.472034895360812: 1, 15.292893837037154: 1, 15.262756332937137: 1, 15.234437136550058: 1, 15.156887245131953: 1, 15.10101316230503: 1, 15.089100718410618: 1, 15.035294526915555: 1, 15.00370696467825: 1, 14.988491933551627: 1, 14.968661761685729: 1, 14.962737838587971: 1, 14.954803906321496: 1, 14.88677010935004: 1, 14.87057393146128: 1, 14.84100626675261: 1, 14.838841282835288: 1, 14.804450551120558: 1, 14.77177328866576: 1, 14.762862200803523: 1, 14.747926086369084: 1, 14.739501552592618: 1, 14.718616860306268: 1, 14.694921580312036: 1, 14.671082922064217: 1, 14.666609913433117: 1, 14.661201265332851: 1, 14.626261305915392: 1, 14.61641327915263: 1, 14.576316136679099: 1, 14.56566933260375: 1, 14.557457460507361: 1, 14.48270307044749: 1, 14.442160218053848: 1, 14.424480836473599: 1, 14.402997290139837: 1, 14.392404081790543: 1, 14.359277030895955: 1, 14.355279968827825: 1, 14.330528161399728: 1, 14.314548786866691: 1, 14.28101950855119: 1, 14.222847738250794: 1, 14.18156754477741: 1, 14.178610176699863: 1, 14.172718118839779: 1, 14.131785986823505: 1, 14.113785838035968: 1, 14.107446674749424: 1, 14.083332778494121: 1, 14.062618942753263: 1, 14.017578713555219: 1, 13.996240552046064: 1, 13.950582476130549: 1, 13.943460173939613: 1, 13.94179447074417: 1, 13.929041424242989: 1, 13.818502284891347: 1, 13.808032974105803: 1, 13.801406120822884: 1, 13.799767933952236: 1, 13.790549191900247: 1, 13.767636019384137: 1, 13.742552804344278: 1, 13.703221353972834: 1, 13.669301937071989: 1, 13.664863658561945: 1, 13.653635471986277: 1, 13.634352338909228: 1, 13.628429349519129: 1, 13.623627857479434: 1, 13.597072726037586: 1, 13.596128869732963: 1, 13.586714903434823: 1, 13.558145059331101: 1, 13.55261518226887: 1, 13.544867492360167: 1, 13.535585955095772: 1, 13.52047879307219: 1, 13.49766993005382: 1, 13.473609876472121: 1, 13.469849363304094: 1, 13.454917856641368: 1, 13.423423584982364: 1, 13.409391433940664: 1, 13.37700576541021: 1, 13.370112631353159: 1, 13.36749582042012: 1, 13.338980996259828: 1, 13.336559546271964: 1, 13.322952208392426: 1, 13.321531583431788: 1, 13.312749598034817: 1, 13.25951121429451: 1, 13.233278648255492: 1, 13.217478134185605: 1, 13.215491544536453: 1, 13.207355871381859: 1, 13.197486226154727: 1, 13.170690819710744: 1, 13.167113064090374: 1, 13.13138763907729: 1, 13.128319718189479: 1, 13.116250925432302: 1, 13.08132926071921: 1, 13.080845243331927: 1, 13.06198440547951: 1, 13.014553663867767: 1, 12.961828666837649: 1, 12.951434022087923: 1, 12.92768396793595: 1, 12.903365393474656: 1, 12.883649948973952: 1, 12.869701128042287: 1, 12.859835162578744: 1, 12.80771782132306: 1, 12.7548089785373: 1, 12.733900423108917: 1, 12.7210027575326: 1, 12.720188076836912: 1, 12.709135630948685: 1, 12.679702298011136: 1, 12.66493496418207: 1, 12.64908084194318: 1, 12.626526462086767: 1, 12.595703469356819: 1, 12.58938291090092: 1, 12.585752354032552: 1, 12.570358074544412: 1, 12.568701598100684: 1, 12.554849446364372: 1, 12.551796948434973: 1, 12.544788516981601: 1, 12.533379942589876: 1, 12.511705048450766: 1, 12.501793490701933: 1, 12.442146875016517: 1, 12.431449472160349: 1, 12.403777086384538: 1, 12.391325580369083: 1, 12.387192660414637: 1, 12.380601076685778: 1, 12.377882991465071: 1, 12.37623442762805: 1, 12.371681467068523: 1, 12.356790382783164: 1, 12.34489045739789: 1, 12.334345357186711: 1, 12.308311376351686: 1, 12.30779754434787: 1, 12.30461877107347: 1, 12.292964310985829: 1, 12.289637782538517: 1, 12.255837990578975: 1, 12.251040130511747: 1, 12.225377672085193: 1, 12.222720722071166: 1, 12.207978739836875: 1, 12.206340073564796: 1, 12.201382412898953: 1, 12.172556044976908: 1, 12.162586635554637: 1, 12.145762952069598: 1, 12.143710234056664: 1, 12.118737742304685: 1, 12.115467716649153: 1, 12.111324023491987: 1, 12.099006472677821: 1, 12.098757294274003: 1, 12.083400528375371: 1, 12.080347838023435: 1, 12.076756918311217: 1, 12.060651088150163: 1, 11.961751392293726: 1, 11.928616598259348: 1, 11.915791126604681: 1, 11.911713460239001: 1, 11.893946515806576: 1, 11.878304116910902: 1, 11.851980761422276: 1, 11.843506411533976: 1, 11.83869072769565: 1, 11.831611084288218: 1, 11.824975975909483: 1, 11.792576668942683: 1, 11.770671551491745: 1, 11.761531714627532: 1, 11.757239755232893: 1, 11.746208001297486: 1, 11.733972845543015: 1, 11.731959070556954: 1, 11.720739020780004: 1, 11.699592009154975: 1, 11.676169261243475: 1, 11.666689838330935: 1, 11.65634850181765: 1, 11.647652019822765: 1, 11.642273659399565: 1, 11.63855764530704: 1, 11.614861297747794: 1, 11.613385526276694: 1, 11.607867239411926: 1, 11.605214035535365: 1, 11.557523607412872: 1, 11.55626172698341: 1, 11.533879501417532: 1, 11.529938914353194: 1, 11.476267116208312: 1, 11.467323169632447: 1, 11.46448217307968: 1, 11.45800327203121: 1, 11.457326792172879: 1, 11.453626413285692: 1, 11.40962359321215: 1, 11.407903759072077: 1, 11.402433627449746: 1, 11.382470550585072: 1, 11.380639859498254: 1, 11.38032367190574: 1, 11.347306186396244: 1, 11.340273714333524: 1, 11.336217277111105: 1, 11.33018221557404: 1, 11.296393550020793: 1, 11.284017262432853: 1, 11.266720484146356: 1, 11.23339524133234: 1, 11.228959602012667: 1, 11.213178433171828: 1, 11.195187805723043: 1, 11.18592062954373: 1, 11.17623119511344: 1, 11.173084493817216: 1, 11.107004193577325: 1, 11.104165295176593: 1, 11.084981259331968: 1, 11.084088186122154: 1, 11.075581837435653: 1, 11.074361781025056: 1, 11.05466187901143: 1, 11.047662022537086: 1, 11.03461669235694: 1, 11.03367830105945: 1, 10.96661245754879: 1, 10.963140959928559: 1, 10.937303697390218: 1, 10.92535353459104: 1, 10.905686992810146: 1, 10.889555426537756: 1, 10.882191638638508: 1, 10.851078842038616: 1, 10.846608625821784: 1, 10.845999551622786: 1, 10.844668148432596: 1, 10.824068515566111: 1, 10.729410853035125: 1, 10.72573231586985: 1, 10.712967601780283: 1, 10.70715203805228: 1, 10.661959831855796: 1, 10.65258454489958: 1, 10.651269943085472: 1, 10.63455816849046: 1, 10.63214093350577: 1, 10.621047915270438: 1, 10.612612075333876: 1, 10.605497519221919: 1, 10.595174779575494: 1, 10.564128261777556: 1, 10.541921614423115: 1, 10.53552626862883: 1, 10.526730100405155: 1, 10.515218863978257: 1, 10.508635807389634: 1, 10.474096230403342: 1, 10.470509196653095: 1, 10.468765057550012: 1, 10.438301682733066: 1, 10.436065928929741: 1, 10.431003912234294: 1, 10.428246351561116: 1, 10.421139297968413: 1, 10.419918242815601: 1, 10.405190674957675: 1, 10.388773111019287: 1, 10.386942774134576: 1, 10.343037224224684: 1, 10.325917154536418: 1, 10.32460658581412: 1, 10.313874768792298: 1, 10.285504620285922: 1, 10.27833907624343: 1, 10.256786982545425: 1, 10.243682207899054: 1, 10.225815981577728: 1, 10.224643027561628: 1, 10.213317360265531: 1, 10.197369141706574: 1, 10.175655167077851: 1, 10.16023499876239: 1, 10.120043682347985: 1, 10.105455419184885: 1, 10.099333303616943: 1, 10.08179881058221: 1, 10.065814741625447: 1, 10.060707293828235: 1, 10.043613705229205: 1, 10.035850228169549: 1, 10.034668189820984: 1, 10.005273787034383: 1, 9.99220329347547: 1, 9.986516552633356: 1, 9.974955481735261: 1, 9.96952504896705: 1, 9.964118716592395: 1, 9.94177467785828: 1, 9.931138238147138: 1, 9.925661435393565: 1, 9.920945912638528: 1, 9.909118447852055: 1, 9.889013647277496: 1, 9.88672067118531: 1, 9.875656216119: 1, 9.86313248449999: 1, 9.84704164742376: 1, 9.841678626455131: 1, 9.841308183928417: 1, 9.82958721912503: 1, 9.802912518089352: 1, 9.778129248400187: 1, 9.7703579393308: 1, 9.767676998803612: 1, 9.75180459932324: 1, 9.746322744242901: 1, 9.737203009694735: 1, 9.719854898246517: 1, 9.718939712309526: 1, 9.712013002774702: 1, 9.68993132102048: 1, 9.688903252814137: 1, 9.685455949828667: 1, 9.681626239747366: 1, 9.679384452365449: 1, 9.67326498494415: 1, 9.653985760608563: 1, 9.641950143008623: 1, 9.63298588328015: 1, 9.626538413790671: 1, 9.611028164820024: 1, 9.587887786260945: 1, 9.585371114258084: 1, 9.579217606011657: 1, 9.570284474895393: 1, 9.547797779528036: 1, 9.546991778379533: 1, 9.530334961999634: 1, 9.527736335587248: 1, 9.504924964212911: 1, 9.492513635443968: 1, 9.4650527674963: 1, 9.456804947582619: 1, 9.449436415573645: 1, 9.445682613523145: 1, 9.441182012467072: 1, 9.42867383574199: 1, 9.419275562208623: 1, 9.409976419120706: 1, 9.406185678512012: 1, 9.405911641386757: 1, 9.371606639081698: 1, 9.36154120049722: 1, 9.344182716805458: 1, 9.33417869842844: 1, 9.326949547043146: 1, 9.32572094209092: 1, 9.31702335780456: 1, 9.316898432858212: 1, 9.31289997575398: 1, 9.297478262881116: 1, 9.295517233708448: 1, 9.29535719181994: 1, 9.291941172635168: 1, 9.28814961373139: 1, 9.285103566852884: 1, 9.27324014316455: 1, 9.270104884584269: 1, 9.258245381026907: 1, 9.25529923718925: 1, 9.246277446311725: 1, 9.232138057354767: 1, 9.22178639740308: 1, 9.220954573866807: 1, 9.218650082928036: 1, 9.215721726395543: 1, 9.21260069155156: 1, 9.20401840023772: 1, 9.202520041435934: 1, 9.197086568152933: 1, 9.184602566109982: 1, 9.177586078137706: 1, 9.176580600001843: 1, 9.170123178591881: 1, 9.165310134608834: 1, 9.162773937693931: 1, 9.159996047378659: 1, 9.141515798317878: 1, 9.13911760273199: 1, 9.135936411218731: 1, 9.134330492518771: 1, 9.12563301129478: 1, 9.123453892830396: 1, 9.12244651873776: 1, 9.095495965608453: 1, 9.083056317886191: 1, 9.082084082591198: 1, 9.076674752041642: 1, 9.076130913244455: 1, 9.069471431800153: 1, 9.054117471559504: 1, 9.049147066518744: 1, 9.046360796336645: 1, 9.046081749310478: 1, 9.037957341759178: 1, 9.025478124665023: 1, 9.019008371663956: 1, 9.017774008828823: 1, 9.007787602597691: 1, 8.986119636544927: 1, 8.98495611170914: 1, 8.981644817864494: 1, 8.97977075379736: 1, 8.957317473920346: 1, 8.946628852839376: 1, 8.944932454954854: 1, 8.938561358532356: 1, 8.92855775884378: 1, 8.92526881748142: 1, 8.924896444993886: 1, 8.903874913385023: 1, 8.900087373204684: 1, 8.899722462720492: 1, 8.896039723024105: 1, 8.881509824374495: 1, 8.88072088814045: 1, 8.866207760085071: 1, 8.864939057620907: 1, 8.864503752656557: 1, 8.855758631707372: 1, 8.84661950126238: 1, 8.836591391243806: 1, 8.831067920332247: 1, 8.824469018105118: 1, 8.809664801957819: 1, 8.806342631514482: 1, 8.794594161364714: 1, 8.77711172883506: 1, 8.761934845489874: 1, 8.742857600572899: 1, 8.723523511504641: 1, 8.720004101628716: 1, 8.71414631214444: 1, 8.708816315943988: 1, 8.705134882737827: 1, 8.680110079847: 1, 8.669030833525499: 1, 8.667470328018826: 1, 8.655604259355625: 1, 8.654404707691121: 1, 8.629766352286694: 1, 8.626338266789253: 1, 8.616664121557575: 1, 8.608732148609423: 1, 8.607378804419483: 1, 8.59873662966377: 1, 8.59750940712188: 1, 8.597053319966134: 1, 8.583191810192314: 1, 8.56481058745252: 1, 8.562459413511524: 1, 8.558810891071902: 1, 8.549900742747822: 1, 8.54696009297212: 1, 8.544711233592743: 1, 8.543464078293724: 1, 8.542009199809856: 1, 8.531962178575464: 1, 8.522507498315056: 1, 8.507218371712135: 1, 8.506179217083377: 1, 8.503067761821992: 1, 8.50165915024324: 1, 8.49830883871487: 1, 8.496562426820716: 1, 8.48670219390006: 1, 8.484628775380425: 1, 8.478936808997313: 1, 8.460011222909532: 1, 8.454104776925094: 1, 8.440715556981557: 1, 8.438767439825817: 1, 8.437097346593598: 1, 8.431015937720288: 1, 8.41979409156912: 1, 8.417111825438747: 1, 8.416495027387066: 1, 8.41487340822522: 1, 8.413217319826396: 1, 8.396889917200227: 1, 8.392755756616886: 1, 8.390614178287272: 1, 8.384546963393412: 1, 8.38389766353493: 1, 8.369012389826365: 1, 8.361582194391465: 1, 8.360225344370294: 1, 8.356675721999506: 1, 8.34678708478099: 1, 8.34008027784889: 1, 8.338886537581432: 1, 8.33267196112224: 1, 8.330127887369494: 1, 8.325374977750107: 1, 8.322323715637507: 1, 8.322232312046165: 1, 8.317880066873183: 1, 8.31342025028331: 1, 8.310321540114169: 1, 8.304053692360597: 1, 8.302022954312227: 1, 8.29884257224608: 1, 8.288177001473441: 1, 8.278803444090382: 1, 8.278190833931944: 1, 8.268303858761504: 1, 8.264833398000498: 1, 8.257745750310225: 1, 8.25098412281712: 1, 8.244599497990855: 1, 8.244437842980709: 1, 8.242705631905842: 1, 8.239823663172627: 1, 8.238321011573445: 1, 8.234965504952749: 1, 8.233538233898713: 1, 8.216220808446751: 1, 8.21334298959157: 1, 8.212333755359: 1, 8.20343913348316: 1, 8.202033649313002: 1, 8.201285580976029: 1, 8.185292903498134: 1, 8.175596428457029: 1, 8.171768011682813: 1, 8.168747321277783: 1, 8.163048160766657: 1, 8.158645006365688: 1, 8.145025308082557: 1, 8.138137956853797: 1, 8.136968673108582: 1, 8.129325458916394: 1, 8.12611020307623: 1, 8.125558255158868: 1, 8.120995546087062: 1, 8.116461206497865: 1, 8.098105654547886: 1, 8.094948744394387: 1, 8.08951655568132: 1, 8.075559289285884: 1, 8.071466796788297: 1, 8.06872642117513: 1, 8.065469551774118: 1, 8.060140822687128: 1, 8.046480323452366: 1, 8.046032963425214: 1, 8.03845326225042: 1, 8.025524808637712: 1, 8.015108198177938: 1, 8.014308790712493: 1, 8.013899826758374: 1, 8.007446957626739: 1, 8.007186101131577: 1, 8.006693114117933: 1, 8.005799664858731: 1, 8.004727911310516: 1, 7.99421428576117: 1, 7.983897207046182: 1, 7.981381858242997: 1, 7.970133512411366: 1, 7.963754145775382: 1, 7.963441469875585: 1, 7.962376711807927: 1, 7.955424884613635: 1, 7.9544197079527015: 1, 7.946981041616742: 1, 7.945967133721215: 1, 7.941124573317629: 1, 7.932546967572724: 1, 7.928766744520794: 1, 7.924234260388945: 1, 7.9241652153392135: 1, 7.923766769090259: 1, 7.913851672487104: 1, 7.912014369566702: 1, 7.910193175516705: 1, 7.90655707617078: 1, 7.899667871889237: 1, 7.8880195152954125: 1, 7.880602114996201: 1, 7.873766075541114: 1, 7.873338617100293: 1, 7.872717970027522: 1, 7.870504168756494: 1, 7.868447616011357: 1, 7.864275391668413: 1, 7.850948131586453: 1, 7.846554747912402: 1, 7.846320489440594: 1, 7.824313874431401: 1, 7.822746268863549: 1, 7.821654573034663: 1, 7.792985958199102: 1, 7.790462639690849: 1, 7.762503338749798: 1, 7.762285243343412: 1, 7.760625149020506: 1, 7.758126904497036: 1, 7.755402538962071: 1, 7.747616332939272: 1, 7.7465334287409595: 1, 7.73924925812609: 1, 7.734662904662936: 1, 7.7321450304273505: 1, 7.69391634909611: 1, 7.691406614743907: 1, 7.688519629470183: 1, 7.687479981842791: 1, 7.683828310715771: 1, 7.6800505656811335: 1, 7.680041098159621: 1, 7.664355758094338: 1, 7.656960589661878: 1, 7.652007397064377: 1, 7.6512043990473195: 1, 7.6377655262126005: 1, 7.635751971526568: 1, 7.632956642056716: 1, 7.630934167284383: 1, 7.620637354073744: 1, 7.608783343281382: 1, 7.6063335516811765: 1, 7.600311366642394: 1, 7.584958724941778: 1, 7.567332150359674: 1, 7.566763271880584: 1, 7.563432181580984: 1, 7.553112013168355: 1, 7.5526566427044575: 1, 7.550231054916023: 1, 7.538373960847812: 1, 7.538179757694242: 1, 7.530062536924969: 1, 7.528251369628264: 1, 7.527685886876328: 1, 7.525842873462064: 1, 7.505565443909348: 1, 7.500961713384425: 1, 7.50006124728274: 1, 7.497213411265022: 1, 7.494662375585481: 1, 7.482748222358352: 1, 7.467240449851316: 1, 7.46675269559984: 1, 7.463892324277935: 1, 7.4595104787258295: 1, 7.455085264645102: 1, 7.454313067670647: 1, 7.453017779159485: 1, 7.4505738161927635: 1, 7.4373858235382215: 1, 7.435544408631289: 1, 7.4319820261156835: 1, 7.426739817254123: 1, 7.418798116534591: 1, 7.417777445580142: 1, 7.415623141337347: 1, 7.40868993328514: 1, 7.407684087791976: 1, 7.396120763221907: 1, 7.395021063596324: 1, 7.394522250808246: 1, 7.3934579919635715: 1, 7.373425385726431: 1, 7.3706563668016365: 1, 7.369310706716025: 1, 7.36464594324617: 1, 7.364389894529921: 1, 7.360512946341707: 1, 7.354027179708592: 1, 7.344890221558519: 1, 7.344201771457428: 1, 7.342233396452927: 1, 7.338670288352197: 1, 7.323142597087203: 1, 7.293760939682917: 1, 7.291869855716792: 1, 7.288742105277015: 1, 7.28769853235542: 1, 7.271554343044812: 1, 7.268956395099408: 1, 7.263553928597098: 1, 7.263397020886852: 1, 7.261660854517553: 1, 7.2615630576606645: 1, 7.249855074356644: 1, 7.240750138336133: 1, 7.229315004532827: 1, 7.224303808430018: 1, 7.222520124414439: 1, 7.221742706465343: 1, 7.219301964221283: 1, 7.213359295616768: 1, 7.211131760478626: 1, 7.210250357894719: 1, 7.199015732223028: 1, 7.192343837225698: 1, 7.190886361525699: 1, 7.188952651531442: 1, 7.176707303937695: 1, 7.175302286777708: 1, 7.166712392143199: 1, 7.159091726284009: 1, 7.153885359014406: 1, 7.148842907116018: 1, 7.144999211858744: 1, 7.142930648244967: 1, 7.142246155562938: 1, 7.139997100985415: 1, 7.139808577164457: 1, 7.1383922223931: 1, 7.137216280799435: 1, 7.133322679417767: 1, 7.13223441339566: 1, 7.128945002041702: 1, 7.1260308769556975: 1, 7.125533763732496: 1, 7.11980746357986: 1, 7.105694316412016: 1, 7.105374645811864: 1, 7.099171539293881: 1, 7.093572788208449: 1, 7.088820038359525: 1, 7.077963261478494: 1, 7.068463205254712: 1, 7.068113081565329: 1, 7.054888771313821: 1, 7.054677241880384: 1, 7.051737977419091: 1, 7.051073107404649: 1, 7.043549245025053: 1, 7.040542397859489: 1, 7.039682581054201: 1, 7.0393474567722425: 1, 7.013922773716128: 1, 7.010625997824869: 1, 7.007141798953335: 1, 7.006695626401344: 1, 7.003173472159255: 1, 6.990935428204269: 1, 6.980695127744253: 1, 6.97338678084707: 1, 6.971887838429257: 1, 6.96892760977348: 1, 6.967312135413818: 1, 6.964351524565815: 1, 6.958867785423331: 1, 6.95322765088525: 1, 6.934777332957197: 1, 6.929778974651564: 1, 6.9272823715343215: 1, 6.926657053217873: 1, 6.924338556277757: 1, 6.907718258478169: 1, 6.904946214581381: 1, 6.894478324437589: 1, 6.8923811349918305: 1, 6.892345319276533: 1, 6.89081431156896: 1, 6.885459600922949: 1, 6.883958195445925: 1, 6.882163942977831: 1, 6.879407803778655: 1, 6.877198422878664: 1, 6.863014742555748: 1, 6.861297828766606: 1, 6.813419192150432: 1, 6.807864885715553: 1, 6.807712969405665: 1, 6.801266353798013: 1, 6.79880457983192: 1, 6.796345928049273: 1, 6.795560453259939: 1, 6.793947480945004: 1, 6.792176428962828: 1, 6.7918353361074395: 1, 6.787937740043173: 1, 6.786562956556676: 1, 6.7852735181303085: 1, 6.7841999759604095: 1, 6.783238461885431: 1, 6.780836424372147: 1, 6.777520182033327: 1, 6.776341953730862: 1, 6.774459337534058: 1, 6.770667272968449: 1, 6.761724372166441: 1, 6.748119624367114: 1, 6.741218546999297: 1, 6.740310589631419: 1, 6.739056192606443: 1, 6.736987288070345: 1, 6.7235314646354185: 1, 6.718348375085667: 1, 6.715735861411843: 1, 6.715242646299049: 1, 6.713957853179559: 1, 6.7115103708049295: 1, 6.708338507020507: 1, 6.703829588174353: 1, 6.70367432674779: 1, 6.701148606772679: 1, 6.699938142518966: 1, 6.671643709588314: 1, 6.665529982376738: 1, 6.657760455286158: 1, 6.656857780548998: 1, 6.651406600324356: 1, 6.651254645573299: 1, 6.639582515997825: 1, 6.6369697505717244: 1, 6.633702666804594: 1, 6.631069181873377: 1, 6.63045399932222: 1, 6.615253868331243: 1, 6.614071697754698: 1, 6.609784644925621: 1, 6.607338392937717: 1, 6.601898315428396: 1, 6.594375537808783: 1, 6.589653748868969: 1, 6.587767867814981: 1, 6.579855108984113: 1, 6.577184347639829: 1, 6.569935128807348: 1, 6.568489111087965: 1, 6.568474750795033: 1, 6.565810387659548: 1, 6.560540886914923: 1, 6.559292120051332: 1, 6.554445338349316: 1, 6.554308806495451: 1, 6.549189407512195: 1, 6.547618344846183: 1, 6.546002764482891: 1, 6.541578359868595: 1, 6.538719996561394: 1, 6.536040757198952: 1, 6.5350829445686545: 1, 6.534796498187953: 1, 6.5271230338192305: 1, 6.522654360910127: 1, 6.520838188373196: 1, 6.5100777562697: 1, 6.507743356946273: 1, 6.505931029611527: 1, 6.500199984406536: 1, 6.492086217404095: 1, 6.4866616599890925: 1, 6.480910485838548: 1, 6.480324596373784: 1, 6.474998214847614: 1, 6.468095157509372: 1, 6.463448034819962: 1, 6.460229869943314: 1, 6.45597958902849: 1, 6.452466831840768: 1, 6.447376935278211: 1, 6.444798383704001: 1, 6.437267294238196: 1, 6.426129129678068: 1, 6.42327385912387: 1, 6.4211907750302295: 1, 6.394503746457415: 1, 6.386349778158237: 1, 6.385827453884955: 1, 6.383170544173277: 1, 6.371249989103238: 1, 6.370892786834333: 1, 6.368868939802733: 1, 6.35698552667765: 1, 6.353875180474182: 1, 6.348643237861688: 1, 6.347728196001146: 1, 6.346377116120298: 1, 6.344321409392515: 1, 6.339122245211392: 1, 6.336031274806936: 1, 6.333215985865688: 1, 6.3320896920606025: 1, 6.32150868744477: 1, 6.316175661755847: 1, 6.3075035854113235: 1, 6.305075811946612: 1, 6.298212154298597: 1, 6.289450206950615: 1, 6.2854698657002706: 1, 6.277960181047853: 1, 6.2764685942575555: 1, 6.27571231826742: 1, 6.272137183605385: 1, 6.271785573973813: 1, 6.2668285297059665: 1, 6.2662514732493335: 1, 6.261629104614617: 1, 6.251760748363815: 1, 6.251579525219256: 1, 6.246484706753554: 1, 6.2462708824843425: 1, 6.245601854719716: 1, 6.244814881088885: 1, 6.244159532045961: 1, 6.242267519325316: 1, 6.240863580488859: 1, 6.238095858706882: 1, 6.236315262642116: 1, 6.235689372070683: 1, 6.23316374500424: 1, 6.222404335710529: 1, 6.211458675742617: 1, 6.211399097331608: 1, 6.21026393338645: 1, 6.2098249073022425: 1, 6.204767926279521: 1, 6.204245194332777: 1, 6.198782093588904: 1, 6.197817026261794: 1, 6.19204889933456: 1, 6.189791100344017: 1, 6.189727405335205: 1, 6.182014333095017: 1, 6.180773478024556: 1, 6.180326215499819: 1, 6.178173953538728: 1, 6.17718215444557: 1, 6.176684557442169: 1, 6.1763041069734985: 1, 6.17242206235874: 1, 6.1696274718737625: 1, 6.169448117185705: 1, 6.166201642602528: 1, 6.156583576132798: 1, 6.150080970794842: 1, 6.145964075210218: 1, 6.143642002139561: 1, 6.141860384632501: 1, 6.13934571167624: 1, 6.13763394226398: 1, 6.135858109016627: 1, 6.1350111162729: 1, 6.1337894054070174: 1, 6.130484913400679: 1, 6.126308923205537: 1, 6.116846692175657: 1, 6.113726709926411: 1, 6.110495800950822: 1, 6.107144722798898: 1, 6.106680370670534: 1, 6.101763283898747: 1, 6.100335283442423: 1, 6.0916973477893235: 1, 6.0904763346085815: 1, 6.086304925354273: 1, 6.083399870937434: 1, 6.081266724197358: 1, 6.079092938816563: 1, 6.074916869876071: 1, 6.070704534126168: 1, 6.0668370455949105: 1, 6.061499275399044: 1, 6.059131704006335: 1, 6.05877145858772: 1, 6.0523184191047275: 1, 6.032392032324478: 1, 6.028632264277036: 1, 6.027372966614316: 1, 6.009192620775675: 1, 6.00538036328869: 1, 6.005242504891658: 1, 6.004839295987449: 1, 5.999511157175787: 1, 5.986315781323149: 1, 5.976610587510602: 1, 5.966145230848305: 1, 5.962964360216136: 1, 5.958942147199875: 1, 5.955192954788644: 1, 5.954898546669276: 1, 5.951628311254704: 1, 5.951161891650718: 1, 5.948750083485947: 1, 5.948006696418019: 1, 5.947820074653422: 1, 5.939738719103402: 1, 5.939249742730622: 1, 5.933754945070103: 1, 5.931880363306003: 1, 5.927246848606058: 1, 5.922382498713379: 1, 5.921730037909375: 1, 5.917091769465377: 1, 5.9164691824431825: 1, 5.916204599477777: 1, 5.912569313749807: 1, 5.911167545119275: 1, 5.910607524929707: 1, 5.907845288928897: 1, 5.905022006289954: 1, 5.8992884975790965: 1, 5.898393240871854: 1, 5.896461865355525: 1, 5.8940497536119985: 1, 5.891565668314642: 1, 5.8914180364127695: 1, 5.890190192434886: 1, 5.8801213966950385: 1, 5.8794690803321545: 1, 5.8791295866506434: 1, 5.8787000758958365: 1, 5.86178410871005: 1, 5.861171277612196: 1, 5.856560842351083: 1, 5.8552318080677255: 1, 5.853807646135884: 1, 5.847699932681894: 1, 5.8466910806723575: 1, 5.8454494038116565: 1, 5.841300636202049: 1, 5.840098108213173: 1, 5.838915391945399: 1, 5.827858500929316: 1, 5.82629694087557: 1, 5.82528874931684: 1, 5.822947194171369: 1, 5.812616421613669: 1, 5.7998389651064945: 1, 5.7871579639672115: 1, 5.773393061156525: 1, 5.772449542948488: 1, 5.772154336075825: 1, 5.76642082281615: 1, 5.765929692024875: 1, 5.765240685417367: 1, 5.760778387013612: 1, 5.757710565843856: 1, 5.756529800581226: 1, 5.748345582235711: 1, 5.740269366112306: 1, 5.740029602571418: 1, 5.732191202260294: 1, 5.727113736431613: 1, 5.724517820735643: 1, 5.716007140040461: 1, 5.715857933761747: 1, 5.710452958492231: 1, 5.710302516203966: 1, 5.709659161897532: 1, 5.70821938094394: 1, 5.702480057186427: 1, 5.694157468493272: 1, 5.692678359739615: 1, 5.678350550739458: 1, 5.678068977727484: 1, 5.675831526666435: 1, 5.673765952335083: 1, 5.669515220983484: 1, 5.665461791548145: 1, 5.664816742505304: 1, 5.656863134444739: 1, 5.656397024211971: 1, 5.644847339260831: 1, 5.644640763019914: 1, 5.639689311505104: 1, 5.637012730365545: 1, 5.633279259181479: 1, 5.6296182387641265: 1, 5.626836490434776: 1, 5.622651787694428: 1, 5.62133059119099: 1, 5.620380745008783: 1, 5.619056107924201: 1, 5.616402555424929: 1, 5.610500842420851: 1, 5.608543503707594: 1, 5.607963150399702: 1, 5.602547906329284: 1, 5.599587712149868: 1, 5.598951030009118: 1, 5.597780050321043: 1, 5.597632320908908: 1, 5.5913026078663846: 1, 5.5853390791070945: 1, 5.5805251799364015: 1, 5.577836546722612: 1, 5.574999891931672: 1, 5.562450124374764: 1, 5.553160869623898: 1, 5.5470480286087644: 1, 5.541688647139402: 1, 5.541102809219925: 1, 5.540691641066782: 1, 5.533767232493592: 1, 5.533685691011204: 1, 5.5335556386354945: 1, 5.5329051173748285: 1, 5.530394616939439: 1, 5.529927954923669: 1, 5.528802410255117: 1, 5.526026319904558: 1, 5.516875655949401: 1, 5.515044518014284: 1, 5.514632114155869: 1, 5.507369372406104: 1, 5.506247258412842: 1, 5.505768905190116: 1, 5.501478120328159: 1, 5.499862633442606: 1, 5.4946345153945995: 1, 5.491181799720285: 1, 5.488378895133272: 1, 5.486832233544244: 1, 5.484743716372237: 1, 5.483739393541335: 1, 5.483507836769764: 1, 5.482551704190444: 1, 5.481771326233923: 1, 5.4763472884616: 1, 5.470065398280781: 1, 5.469441001557883: 1, 5.469182108153082: 1, 5.462257112216852: 1, 5.457206143630066: 1, 5.4518610541876225: 1, 5.449987668842429: 1, 5.444889841552562: 1, 5.443033801189932: 1, 5.440263013651124: 1, 5.439142840400714: 1, 5.43759539064179: 1, 5.432065213564397: 1, 5.421118034159887: 1, 5.409578560500274: 1, 5.4078594195271865: 1, 5.404888160611154: 1, 5.402882061730985: 1, 5.4021303626199035: 1, 5.39968129788028: 1, 5.398620122541194: 1, 5.391225555382049: 1, 5.391135454550159: 1, 5.383538870218923: 1, 5.382212017986775: 1, 5.368691717334567: 1, 5.363768335649769: 1, 5.363617159514744: 1, 5.357686350986258: 1, 5.357582686084005: 1, 5.353670787423775: 1, 5.35041818063744: 1, 5.349698562881502: 1, 5.348063462802287: 1, 5.344118397856841: 1, 5.342857612622525: 1, 5.341896520013249: 1, 5.340997647797851: 1, 5.33630874002886: 1, 5.323612881444981: 1, 5.321773335551306: 1, 5.313613630431535: 1, 5.312212941101899: 1, 5.30814671338361: 1, 5.3080433411690535: 1, 5.305911424568274: 1, 5.305318491409505: 1, 5.300286909414886: 1, 5.298699765107584: 1, 5.296829770986927: 1, 5.295173963792773: 1, 5.292342363553683: 1, 5.2922419253504005: 1, 5.285430570314443: 1, 5.28124390116701: 1, 5.272291490228152: 1, 5.269210406043186: 1, 5.258159804827134: 1, 5.255536511921611: 1, 5.245331359365883: 1, 5.23930963391219: 1, 5.236975572378427: 1, 5.224735509338708: 1, 5.22314745624119: 1, 5.220801555634494: 1, 5.220653213786156: 1, 5.2133729230888735: 1, 5.211782267594795: 1, 5.207439758572658: 1, 5.203479862561807: 1, 5.20240072027268: 1, 5.202082211473519: 1, 5.19853920106058: 1, 5.189056231934532: 1, 5.189053093051227: 1, 5.183555021100364: 1, 5.18213507769157: 1, 5.176979928671029: 1, 5.173349769886178: 1, 5.170945402866707: 1, 5.170029207401091: 1, 5.167411341466243: 1, 5.165389113208626: 1, 5.165389003403053: 1, 5.164173813908423: 1, 5.156940487372659: 1, 5.15166232587581: 1, 5.146709647184913: 1, 5.146544666475507: 1, 5.142726238985802: 1, 5.1411947190839715: 1, 5.138742467693863: 1, 5.136179290178397: 1, 5.135428889115161: 1, 5.135394411427298: 1, 5.135141134250016: 1, 5.134486362948952: 1, 5.134376964022565: 1, 5.129974071192239: 1, 5.129558073945572: 1, 5.125987983251095: 1, 5.125748689342832: 1, 5.125078430544705: 1, 5.121526938202745: 1, 5.121089894642432: 1, 5.120825958577966: 1, 5.119098483132784: 1, 5.1178717571194765: 1, 5.11639134876793: 1, 5.115917391616717: 1, 5.112290690040655: 1, 5.11145568995218: 1, 5.108468018217999: 1, 5.107235707079183: 1, 5.103487690983212: 1, 5.099126001505214: 1, 5.098262156112414: 1, 5.09825760927828: 1, 5.094330726855458: 1, 5.093906191924705: 1, 5.090113901640253: 1, 5.089466474061783: 1, 5.085423485226109: 1, 5.085359276371353: 1, 5.072472699332877: 1, 5.067175913720695: 1, 5.065191736890823: 1, 5.06362441054888: 1, 5.062603367579055: 1, 5.062320711665376: 1, 5.062104693730479: 1, 5.060579819963319: 1, 5.047860430021685: 1, 5.046106305409975: 1, 5.043624755266692: 1, 5.0350744978482025: 1, 5.031875290968403: 1, 5.031679580053612: 1, 5.030978484227635: 1, 5.028443227922408: 1, 5.026126512995689: 1, 5.022084169401065: 1, 5.0177233672155825: 1, 5.017226717245891: 1, 5.014948894577424: 1, 5.012103262572571: 1, 5.010862291574088: 1, 5.010653733157181: 1, 5.007576973042077: 1, 5.003825523257326: 1, 4.999781739855591: 1, 4.999407708810121: 1, 4.999211928356151: 1, 4.9980511552402955: 1, 4.99079926226592: 1, 4.98763133520008: 1, 4.979543400296912: 1, 4.977900506481137: 1, 4.97284522860538: 1, 4.9688686265113216: 1, 4.968128784425204: 1, 4.963461554745078: 1, 4.962760899827461: 1, 4.960947708247349: 1, 4.960314457620075: 1, 4.9560451451913075: 1, 4.955864305815382: 1, 4.953559119511923: 1, 4.9445725267263905: 1, 4.942561164195767: 1, 4.935306801448017: 1, 4.929955465053522: 1, 4.928950990271821: 1, 4.928033878540504: 1, 4.927944681796967: 1, 4.92481616628654: 1, 4.922770126850061: 1, 4.922303057890798: 1, 4.922290941715099: 1, 4.9183209576650455: 1, 4.912492551211909: 1, 4.909261810646991: 1, 4.908752344393789: 1, 4.908122084462022: 1, 4.905918685656094: 1, 4.904711113396125: 1, 4.8948329747598835: 1, 4.890142782576016: 1, 4.888146219043309: 1, 4.8860986343763235: 1, 4.882691971833059: 1, 4.881770478264479: 1, 4.881327298120163: 1, 4.879549221850223: 1, 4.876538225420644: 1, 4.874311297582595: 1, 4.872929448385002: 1, 4.870217963748003: 1, 4.865024808898866: 1, 4.864042915222317: 1, 4.856895917412921: 1, 4.8568584654877345: 1, 4.853870406377834: 1, 4.853230788861095: 1, 4.85251624440824: 1, 4.849515878057856: 1, 4.846429348628856: 1, 4.845790515052006: 1, 4.834189020024351: 1, 4.832604122314282: 1, 4.83179593384144: 1, 4.83146369765473: 1, 4.830928852339157: 1, 4.826521294971144: 1, 4.823939012567238: 1, 4.822584370345114: 1, 4.811377971523904: 1, 4.8062969023677375: 1, 4.80363503255691: 1, 4.80257014226479: 1, 4.800601922023669: 1, 4.794128120863491: 1, 4.787630744875222: 1, 4.785883966989185: 1, 4.783580638632159: 1, 4.779846588644849: 1, 4.777555935503454: 1, 4.776977056608711: 1, 4.775165493384806: 1, 4.775099592835658: 1, 4.770390272996907: 1, 4.770060845036334: 1, 4.7677928995389625: 1, 4.762373426889896: 1, 4.762173428801318: 1, 4.750051311675984: 1, 4.749294042449645: 1, 4.748707402542666: 1, 4.745814098279801: 1, 4.7436717040218594: 1, 4.74310161969074: 1, 4.738034611314652: 1, 4.735425533540135: 1, 4.735138961361496: 1, 4.7347710976249076: 1, 4.734359054563916: 1, 4.7324570998392845: 1, 4.728038071366762: 1, 4.727807821730859: 1, 4.727320749523615: 1, 4.725709023309603: 1, 4.722544185287291: 1, 4.713434871854283: 1, 4.709760585725063: 1, 4.7048511227393925: 1, 4.703767111918153: 1, 4.702809614226298: 1, 4.70037732160941: 1, 4.695965855509968: 1, 4.692316733900003: 1, 4.690471859053195: 1, 4.685680502398152: 1, 4.677334728609804: 1, 4.676245029815498: 1, 4.6731253224904785: 1, 4.672181104537127: 1, 4.671859471608816: 1, 4.67137824639061: 1, 4.666446621802433: 1, 4.664387973969579: 1, 4.66393430146596: 1, 4.663346808828385: 1, 4.649643938295313: 1, 4.641726931664081: 1, 4.637537292912664: 1, 4.626969087890342: 1, 4.619748985753411: 1, 4.612387750642091: 1, 4.611449551421634: 1, 4.606454469172831: 1, 4.604967663757499: 1, 4.60017661016507: 1, 4.599631245217747: 1, 4.598144128295504: 1, 4.597784161195871: 1, 4.5943366404174535: 1, 4.594239222216573: 1, 4.593860236969296: 1, 4.586459692289197: 1, 4.581453967885849: 1, 4.581299608958786: 1, 4.579590633958135: 1, 4.576687696419272: 1, 4.575167535348547: 1, 4.5724867337331085: 1, 4.571400647061632: 1, 4.568451098510351: 1, 4.564156635891448: 1, 4.561270576546803: 1, 4.551470651956915: 1, 4.548738200760601: 1, 4.548106898621376: 1, 4.542264451809862: 1, 4.54032792639619: 1, 4.535389889507503: 1, 4.529894348540523: 1, 4.521552759522275: 1, 4.521124390466624: 1, 4.51307087798264: 1, 4.510982272931213: 1, 4.509407164335787: 1, 4.509048604203149: 1, 4.503694308007094: 1, 4.493291446318286: 1, 4.489211889396668: 1, 4.4880638195534575: 1, 4.485121808278462: 1, 4.4796875195640276: 1, 4.477834685858575: 1, 4.471949600160006: 1, 4.465520902776927: 1, 4.4642294728355365: 1, 4.454634308987943: 1, 4.452536812351589: 1, 4.448692348648425: 1, 4.44743332781135: 1, 4.442269113801443: 1, 4.439941377409827: 1, 4.439520703097777: 1, 4.438952462235232: 1, 4.436273814812604: 1, 4.435804016103231: 1, 4.428223136823733: 1, 4.4258615240128885: 1, 4.4225592283621955: 1, 4.416769761358354: 1, 4.414313794179473: 1, 4.411052968980365: 1, 4.404000840163616: 1, 4.4028931457802605: 1, 4.386224045720174: 1, 4.380398390521071: 1, 4.373954583835741: 1, 4.369547844975241: 1, 4.369491356609772: 1, 4.367534103881637: 1, 4.364121666784793: 1, 4.3623392008940165: 1, 4.356814531687579: 1, 4.3555538875544: 1, 4.354532631747144: 1, 4.35116915257562: 1, 4.349467024711574: 1, 4.343817890648813: 1, 4.341116814425907: 1, 4.33695662257953: 1, 4.3313663352919: 1, 4.328990566013727: 1, 4.328543824878548: 1, 4.32557207996969: 1, 4.3235946686164155: 1, 4.322251389143373: 1, 4.320820514142533: 1, 4.315094381705707: 1, 4.313981866204473: 1, 4.309535105635691: 1, 4.304618714316631: 1, 4.3039556246185064: 1, 4.302541488904325: 1, 4.295243213746586: 1, 4.292018151613115: 1, 4.289926270099688: 1, 4.2836565884205395: 1, 4.282944297131532: 1, 4.2805557302008825: 1, 4.280385159474692: 1, 4.2787560388545565: 1, 4.274294636869566: 1, 4.268414151933657: 1, 4.2625167560058115: 1, 4.262405244716838: 1, 4.260857497993324: 1, 4.260645703129404: 1, 4.2586241255772235: 1, 4.255467343821701: 1, 4.251706171131721: 1, 4.248444226001811: 1, 4.242589440306157: 1, 4.241286837140813: 1, 4.240780343760887: 1, 4.227347839134865: 1, 4.226634019495509: 1, 4.22482079341279: 1, 4.221690548901824: 1, 4.221467632717297: 1, 4.22050810928891: 1, 4.218009633087791: 1, 4.217717886431436: 1, 4.213588666739548: 1, 4.20702557614103: 1, 4.202276685019625: 1, 4.184502328157826: 1, 4.183711157196811: 1, 4.180300853872283: 1, 4.1772471920655905: 1, 4.176923033373463: 1, 4.175735108870135: 1, 4.174421427329448: 1, 4.173347181848077: 1, 4.169403488527698: 1, 4.165452524767018: 1, 4.164200781232446: 1, 4.160715258240326: 1, 4.160623829504644: 1, 4.140679456562849: 1, 4.138358954321756: 1, 4.137059206543696: 1, 4.1343259360372295: 1, 4.133270067595886: 1, 4.132680521929841: 1, 4.130966147301969: 1, 4.12899020677335: 1, 4.126007262212505: 1, 4.125931352695048: 1, 4.1223962763182875: 1, 4.117810483385489: 1, 4.117018633185042: 1, 4.111635041667281: 1, 4.1030797135517325: 1, 4.101898477163398: 1, 4.0973608880476196: 1, 4.09610519571928: 1, 4.095365475498993: 1, 4.0852786344332275: 1, 4.077098482085345: 1, 4.0672688328061835: 1, 4.056648034250132: 1, 4.056426041861859: 1, 4.05212080179054: 1, 4.0474384177684195: 1, 4.047380343245926: 1, 4.040315620617734: 1, 4.037103312255763: 1, 4.033746862101183: 1, 4.016793054293201: 1, 4.012417804952266: 1, 4.001821180024616: 1, 4.000425408503262: 1, 4.000008378957059: 1, 3.999144468142915: 1, 3.9987521945771904: 1, 3.998339390852851: 1, 3.988088270491659: 1, 3.983108853898054: 1, 3.9677507415800273: 1, 3.9486308110661392: 1, 3.9477889629713636: 1, 3.9446271330357794: 1, 3.9442966796893346: 1, 3.9437261410793525: 1, 3.93846385784017: 1, 3.932084534273923: 1, 3.926880632223121: 1, 3.926536105334594: 1, 3.9245129629554585: 1, 3.913979911851143: 1, 3.907529444268201: 1, 3.900942774668928: 1, 3.883055758206685: 1, 3.864663933731153: 1, 3.86078148873756: 1, 3.847780260528246: 1, 3.846773102704733: 1, 3.829584279252829: 1, 3.8279988383970163: 1, 3.8199484390072995: 1, 3.8089618827918645: 1, 3.8068959378935228: 1, 3.7778904381225367: 1, 3.775749919661902: 1, 3.758526533715264: 1, 3.6933027281182733: 1, 3.6768603568456126: 1, 3.6706455822355624: 1, 3.654681492229127: 1, 3.636503468818947: 1, 3.6194678994006946: 1, 3.616461866579581: 1, 3.61416369131181: 1, 3.541384215852895: 1, 3.5197357113059535: 1, 3.3941599879630777: 1, 2.942787608921239: 1, 2.9336591345935124: 1})\n"
     ]
    }
   ],
   "source": [
    "# Number of words for a given frequency.\n",
    "print(Counter(sorted_text_occur))"
   ]
  },
  {
   "cell_type": "markdown",
   "metadata": {},
   "source": [
    "<h1>3. Machine Learning Model</h1>"
   ]
  },
  {
   "cell_type": "markdown",
   "metadata": {},
   "source": [
    "Turns out from out previous explorations, the logistic regression model with class balancing works the best. Hence, we will apply the same here."
   ]
  },
  {
   "cell_type": "code",
   "execution_count": 50,
   "metadata": {},
   "outputs": [],
   "source": [
    "#Data preparation for ML models.\n",
    "\n",
    "#Misc. functionns for ML models\n",
    "\n",
    "\n",
    "def predict_and_plot_confusion_matrix(train_x, train_y,test_x, test_y, clf):\n",
    "    clf.fit(train_x, train_y)\n",
    "    sig_clf = CalibratedClassifierCV(clf, method=\"sigmoid\")\n",
    "    sig_clf.fit(train_x, train_y)\n",
    "    pred_y = sig_clf.predict(test_x)\n",
    "\n",
    "    # for calculating log_loss we willl provide the array of probabilities belongs to each class\n",
    "    print(\"Log loss :\",log_loss(test_y, sig_clf.predict_proba(test_x)))\n",
    "    # calculating the number of data points that are misclassified\n",
    "    print(\"Number of mis-classified points :\", np.count_nonzero((pred_y- test_y))/test_y.shape[0])\n",
    "    plot_confusion_matrix(test_y, pred_y)"
   ]
  },
  {
   "cell_type": "code",
   "execution_count": 51,
   "metadata": {},
   "outputs": [],
   "source": [
    "def report_log_loss(train_x, train_y, test_x, test_y,  clf):\n",
    "    clf.fit(train_x, train_y)\n",
    "    sig_clf = CalibratedClassifierCV(clf, method=\"sigmoid\")\n",
    "    sig_clf.fit(train_x, train_y)\n",
    "    sig_clf_probs = sig_clf.predict_proba(test_x)\n",
    "    return log_loss(test_y, sig_clf_probs, eps=1e-15)"
   ]
  },
  {
   "cell_type": "code",
   "execution_count": 52,
   "metadata": {},
   "outputs": [],
   "source": [
    "# this function will be used just for naive bayes\n",
    "# for the given indices, we will print the name of the features\n",
    "# and we will check whether the feature present in the test point text or not\n",
    "def get_impfeature_names(indices, text, gene, var, no_features):\n",
    "    gene_count_vec = CountVectorizer()\n",
    "    var_count_vec = CountVectorizer()\n",
    "    text_count_vec = CountVectorizer(min_df=3)\n",
    "    \n",
    "    gene_vec = gene_count_vec.fit(train_df['Gene'])\n",
    "    var_vec  = var_count_vec.fit(train_df['Variation'])\n",
    "    text_vec = text_count_vec.fit(train_df['TEXT'])\n",
    "    \n",
    "    fea1_len = len(gene_vec.get_feature_names())\n",
    "    fea2_len = len(var_count_vec.get_feature_names())\n",
    "    \n",
    "    word_present = 0\n",
    "    for i,v in enumerate(indices):\n",
    "        if (v < fea1_len):\n",
    "            word = gene_vec.get_feature_names()[v]\n",
    "            yes_no = True if word == gene else False\n",
    "            if yes_no:\n",
    "                word_present += 1\n",
    "                print(i, \"Gene feature [{}] present in test data point [{}]\".format(word,yes_no))\n",
    "        elif (v < fea1_len+fea2_len):\n",
    "            word = var_vec.get_feature_names()[v-(fea1_len)]\n",
    "            yes_no = True if word == var else False\n",
    "            if yes_no:\n",
    "                word_present += 1\n",
    "                print(i, \"variation feature [{}] present in test data point [{}]\".format(word,yes_no))\n",
    "        else:\n",
    "            word = text_vec.get_feature_names()[v-(fea1_len+fea2_len)]\n",
    "            yes_no = True if word in text.split() else False\n",
    "            if yes_no:\n",
    "                word_present += 1\n",
    "                print(i, \"Text feature [{}] present in test data point [{}]\".format(word,yes_no))\n",
    "\n",
    "    print(\"Out of the top \",no_features,\" features \", word_present, \"are present in query point\")"
   ]
  },
  {
   "cell_type": "markdown",
   "metadata": {},
   "source": [
    "<p style=\"font-size:24px;text-align:Center\"> <b>Stacking the three types of features </b><p>"
   ]
  },
  {
   "cell_type": "code",
   "execution_count": 53,
   "metadata": {},
   "outputs": [],
   "source": [
    "# merging gene, variance and text features\n",
    "\n",
    "# building train, test and cross validation data sets\n",
    "# a = [[1, 2], \n",
    "#      [3, 4]]\n",
    "# b = [[4, 5], \n",
    "#      [6, 7]]\n",
    "# hstack(a, b) = [[1, 2, 4, 5],\n",
    "#                [ 3, 4, 6, 7]]\n",
    "\n",
    "train_gene_var_onehotCoding = hstack((train_gene_feature_onehotCoding,train_variation_feature_onehotCoding))\n",
    "test_gene_var_onehotCoding = hstack((test_gene_feature_onehotCoding,test_variation_feature_onehotCoding))\n",
    "cv_gene_var_onehotCoding = hstack((cv_gene_feature_onehotCoding,cv_variation_feature_onehotCoding))\n",
    "\n",
    "train_x_onehotCoding = hstack((train_gene_var_onehotCoding, train_text_feature_onehotCoding)).tocsr()\n",
    "train_y = np.array(list(train_df['Class']))\n",
    "\n",
    "test_x_onehotCoding = hstack((test_gene_var_onehotCoding, test_text_feature_onehotCoding)).tocsr()\n",
    "test_y = np.array(list(test_df['Class']))\n",
    "\n",
    "cv_x_onehotCoding = hstack((cv_gene_var_onehotCoding, cv_text_feature_onehotCoding)).tocsr()\n",
    "cv_y = np.array(list(cv_df['Class']))\n",
    "\n",
    "\n",
    "train_gene_var_responseCoding = np.hstack((train_gene_feature_responseCoding,train_variation_feature_responseCoding))\n",
    "test_gene_var_responseCoding = np.hstack((test_gene_feature_responseCoding,test_variation_feature_responseCoding))\n",
    "cv_gene_var_responseCoding = np.hstack((cv_gene_feature_responseCoding,cv_variation_feature_responseCoding))\n",
    "\n",
    "train_x_responseCoding = np.hstack((train_gene_var_responseCoding, train_text_feature_responseCoding))\n",
    "test_x_responseCoding = np.hstack((test_gene_var_responseCoding, test_text_feature_responseCoding))\n",
    "cv_x_responseCoding = np.hstack((cv_gene_var_responseCoding, cv_text_feature_responseCoding))\n"
   ]
  },
  {
   "cell_type": "code",
   "execution_count": 54,
   "metadata": {},
   "outputs": [
    {
     "name": "stdout",
     "output_type": "stream",
     "text": [
      "One hot encoding features :\n",
      "(number of data points * number of features) in train data =  (2124, 4197)\n",
      "(number of data points * number of features) in test data =  (665, 4197)\n",
      "(number of data points * number of features) in cross validation data = (532, 4197)\n"
     ]
    }
   ],
   "source": [
    "print(\"One hot encoding features :\")\n",
    "print(\"(number of data points * number of features) in train data = \", train_x_onehotCoding.shape)\n",
    "print(\"(number of data points * number of features) in test data = \", test_x_onehotCoding.shape)\n",
    "print(\"(number of data points * number of features) in cross validation data =\", cv_x_onehotCoding.shape)"
   ]
  },
  {
   "cell_type": "markdown",
   "metadata": {},
   "source": [
    "<h2>3.1 Logistic Regression</h2>"
   ]
  },
  {
   "cell_type": "markdown",
   "metadata": {},
   "source": [
    "<h3>3.1.1 With Class balancing</h3>"
   ]
  },
  {
   "cell_type": "markdown",
   "metadata": {},
   "source": [
    "<h4>3.1.1.2 Hyper paramter tuning</h4>"
   ]
  },
  {
   "cell_type": "code",
   "execution_count": 56,
   "metadata": {},
   "outputs": [
    {
     "name": "stdout",
     "output_type": "stream",
     "text": [
      "for alpha = 1e-06\n",
      "Log Loss : 1.128862048505208\n",
      "for alpha = 1e-05\n",
      "Log Loss : 1.0978849309778183\n",
      "for alpha = 0.0001\n",
      "Log Loss : 1.0315024140576095\n",
      "for alpha = 0.001\n",
      "Log Loss : 1.0514870912032206\n",
      "for alpha = 0.01\n",
      "Log Loss : 1.1495388571311642\n",
      "for alpha = 0.1\n",
      "Log Loss : 1.6966554881471476\n",
      "for alpha = 1\n",
      "Log Loss : 1.8572172453582843\n",
      "for alpha = 10\n",
      "Log Loss : 1.8713916317598367\n",
      "for alpha = 100\n",
      "Log Loss : 1.8718976174969986\n"
     ]
    },
    {
     "data": {
      "image/png": "[encoded data removed]",
      "text/plain": [
       "<Figure size 432x288 with 1 Axes>"
      ]
     },
     "metadata": {
      "needs_background": "light"
     },
     "output_type": "display_data"
    },
    {
     "name": "stdout",
     "output_type": "stream",
     "text": [
      "For values of best alpha =  0.0001 The train log loss is: 0.4296863135851995\n",
      "For values of best alpha =  0.0001 The cross validation log loss is: 1.0315024140576095\n",
      "For values of best alpha =  0.0001 The test log loss is: 0.9933602410684917\n"
     ]
    }
   ],
   "source": [
    "\n",
    "# read more about SGDClassifier() at http://scikit-learn.org/stable/modules/generated/sklearn.linear_model.SGDClassifier.html\n",
    "# ------------------------------\n",
    "# default parameters\n",
    "# SGDClassifier(loss=’hinge’, penalty=’l2’, alpha=0.0001, l1_ratio=0.15, fit_intercept=True, max_iter=None, tol=None, \n",
    "# shuffle=True, verbose=0, epsilon=0.1, n_jobs=1, random_state=None, learning_rate=’optimal’, eta0=0.0, power_t=0.5, \n",
    "# class_weight=None, warm_start=False, average=False, n_iter=None)\n",
    "\n",
    "# some of methods\n",
    "# fit(X, y[, coef_init, intercept_init, …])\tFit linear model with Stochastic Gradient Descent.\n",
    "# predict(X)\tPredict class labels for samples in X.\n",
    "\n",
    "#-------------------------------\n",
    "# video link: https://www.appliedaicourse.com/course/applied-ai-course-online/lessons/geometric-intuition-1/\n",
    "#------------------------------\n",
    "\n",
    "\n",
    "# find more about CalibratedClassifierCV here at http://scikit-learn.org/stable/modules/generated/sklearn.calibration.CalibratedClassifierCV.html\n",
    "# ----------------------------\n",
    "# default paramters\n",
    "# sklearn.calibration.CalibratedClassifierCV(base_estimator=None, method=’sigmoid’, cv=3)\n",
    "#\n",
    "# some of the methods of CalibratedClassifierCV()\n",
    "# fit(X, y[, sample_weight])\tFit the calibrated model\n",
    "# get_params([deep])\tGet parameters for this estimator.\n",
    "# predict(X)\tPredict the target of new samples.\n",
    "# predict_proba(X)\tPosterior probabilities of classification\n",
    "#-------------------------------------\n",
    "# video link:\n",
    "#-------------------------------------\n",
    "\n",
    "alpha = [10 ** x for x in range(-6, 3)]\n",
    "cv_log_error_array = []\n",
    "for i in alpha:\n",
    "    print(\"for alpha =\", i)\n",
    "    clf = SGDClassifier(class_weight='balanced', alpha=i, penalty='l2', loss='log', random_state=42)\n",
    "    clf.fit(train_x_onehotCoding, train_y)\n",
    "    sig_clf = CalibratedClassifierCV(clf, method=\"sigmoid\")\n",
    "    sig_clf.fit(train_x_onehotCoding, train_y)\n",
    "    sig_clf_probs = sig_clf.predict_proba(cv_x_onehotCoding)\n",
    "    cv_log_error_array.append(log_loss(cv_y, sig_clf_probs, labels=clf.classes_, eps=1e-15))\n",
    "    # to avoid rounding error while multiplying probabilites we use log-probability estimates\n",
    "    print(\"Log Loss :\",log_loss(cv_y, sig_clf_probs)) \n",
    "\n",
    "fig, ax = plt.subplots()\n",
    "ax.plot(alpha, cv_log_error_array,c='g')\n",
    "for i, txt in enumerate(np.round(cv_log_error_array,3)):\n",
    "    ax.annotate((alpha[i],str(txt)), (alpha[i],cv_log_error_array[i]))\n",
    "plt.grid()\n",
    "plt.title(\"Cross Validation Error for each alpha\")\n",
    "plt.xlabel(\"Alpha i's\")\n",
    "plt.ylabel(\"Error measure\")\n",
    "plt.show()\n",
    "\n",
    "\n",
    "best_alpha = np.argmin(cv_log_error_array)\n",
    "clf = SGDClassifier(class_weight='balanced', alpha=alpha[best_alpha], penalty='l2', loss='log', random_state=42)\n",
    "clf.fit(train_x_onehotCoding, train_y)\n",
    "sig_clf = CalibratedClassifierCV(clf, method=\"sigmoid\")\n",
    "sig_clf.fit(train_x_onehotCoding, train_y)\n",
    "\n",
    "predict_y = sig_clf.predict_proba(train_x_onehotCoding)\n",
    "print('For values of best alpha = ', alpha[best_alpha], \"The train log loss is:\",log_loss(y_train, predict_y, labels=clf.classes_, eps=1e-15))\n",
    "predict_y = sig_clf.predict_proba(cv_x_onehotCoding)\n",
    "print('For values of best alpha = ', alpha[best_alpha], \"The cross validation log loss is:\",log_loss(y_cv, predict_y, labels=clf.classes_, eps=1e-15))\n",
    "predict_y = sig_clf.predict_proba(test_x_onehotCoding)\n",
    "print('For values of best alpha = ', alpha[best_alpha], \"The test log loss is:\",log_loss(y_test, predict_y, labels=clf.classes_, eps=1e-15))"
   ]
  },
  {
   "cell_type": "markdown",
   "metadata": {},
   "source": [
    "<h4>3.1.1.3. Testing the model with best hyper paramters</h4>"
   ]
  },
  {
   "cell_type": "code",
   "execution_count": 57,
   "metadata": {
    "scrolled": false
   },
   "outputs": [
    {
     "name": "stdout",
     "output_type": "stream",
     "text": [
      "Log loss : 1.0315024140576095\n",
      "Number of mis-classified points : 0.35714285714285715\n",
      "-------------------- Confusion matrix --------------------\n"
     ]
    },
    {
     "data": {
      "image/png": "[encoded data removed]",
      "text/plain": [
       "<Figure size 1440x504 with 2 Axes>"
      ]
     },
     "metadata": {
      "needs_background": "light"
     },
     "output_type": "display_data"
    },
    {
     "name": "stdout",
     "output_type": "stream",
     "text": [
      "-------------------- Precision matrix (Columm Sum=1) --------------------\n"
     ]
    },
    {
     "data": {
      "image/png": "[encoded data removed]",
      "text/plain": [
       "<Figure size 1440x504 with 2 Axes>"
      ]
     },
     "metadata": {
      "needs_background": "light"
     },
     "output_type": "display_data"
    },
    {
     "name": "stdout",
     "output_type": "stream",
     "text": [
      "-------------------- Recall matrix (Row sum=1) --------------------\n"
     ]
    },
    {
     "data": {
      "image/png": "[encoded data removed]",
      "text/plain": [
       "<Figure size 1440x504 with 2 Axes>"
      ]
     },
     "metadata": {
      "needs_background": "light"
     },
     "output_type": "display_data"
    }
   ],
   "source": [
    "# read more about SGDClassifier() at http://scikit-learn.org/stable/modules/generated/sklearn.linear_model.SGDClassifier.html\n",
    "# ------------------------------\n",
    "# default parameters\n",
    "# SGDClassifier(loss=’hinge’, penalty=’l2’, alpha=0.0001, l1_ratio=0.15, fit_intercept=True, max_iter=None, tol=None, \n",
    "# shuffle=True, verbose=0, epsilon=0.1, n_jobs=1, random_state=None, learning_rate=’optimal’, eta0=0.0, power_t=0.5, \n",
    "# class_weight=None, warm_start=False, average=False, n_iter=None)\n",
    "\n",
    "# some of methods\n",
    "# fit(X, y[, coef_init, intercept_init, …])\tFit linear model with Stochastic Gradient Descent.\n",
    "# predict(X)\tPredict class labels for samples in X.\n",
    "\n",
    "#-------------------------------\n",
    "# video link: https://www.appliedaicourse.com/course/applied-ai-course-online/lessons/geometric-intuition-1/\n",
    "#------------------------------\n",
    "clf = SGDClassifier(class_weight='balanced', alpha=alpha[best_alpha], penalty='l2', loss='log', random_state=42)\n",
    "predict_and_plot_confusion_matrix(train_x_onehotCoding, train_y, cv_x_onehotCoding, cv_y, clf)"
   ]
  },
  {
   "cell_type": "markdown",
   "metadata": {},
   "source": [
    "## Conclusions"
   ]
  },
  {
   "cell_type": "markdown",
   "metadata": {},
   "source": [
    "The strategy was to vectorize the text using Tfidf vectorizer with upto 4 grams. This was picked rather than another one that was to have another colums in the data that would actually contain the Tfidf vectorized strings formed by concatenating the gene and variance feature.\n",
    "\n",
    "Earlier we saw that the logistic regression model with class balancing was a fair winner among all the other created models. Hence, with this strategy of tf idf vectorization with 1-4 grams range, the log loss on test set was further reduced to less than 1.\n",
    "The results thus found are tabulated below:"
   ]
  },
  {
   "cell_type": "code",
   "execution_count": 2,
   "metadata": {},
   "outputs": [
    {
     "name": "stdout",
     "output_type": "stream",
     "text": [
      "+---------------------+------------+---------+-----------+------------------------------+\n",
      "|        Model        | Train loss | CV loss | Test loss | Percentage misclassification |\n",
      "+---------------------+------------+---------+-----------+------------------------------+\n",
      "| Logistic Regression |   0.429    |  1.031  |   0.993   |            35.71             |\n",
      "|  + Class Balancing  |            |         |           |                              |\n",
      "|  (One-hot encoding) |            |         |           |                              |\n",
      "+---------------------+------------+---------+-----------+------------------------------+\n"
     ]
    }
   ],
   "source": [
    "from prettytable import PrettyTable\n",
    "x = PrettyTable()\n",
    "x.field_names = ['Model','Train loss', 'CV loss', 'Test loss', 'Percentage misclassification']\n",
    "x.add_row(['Logistic Regression\\n+ Class Balancing\\n(One-hot encoding)',0.429, 1.031, 0.993, 35.71])\n",
    "print(x)"
   ]
  }
 ],
 "metadata": {
  "kernelspec": {
   "display_name": "Python 3",
   "language": "python",
   "name": "python3"
  },
  "language_info": {
   "codemirror_mode": {
    "name": "ipython",
    "version": 3
   },
   "file_extension": ".py",
   "mimetype": "text/x-python",
   "name": "python",
   "nbconvert_exporter": "python",
   "pygments_lexer": "ipython3",
   "version": "3.7.1"
  }
 },
 "nbformat": 4,
 "nbformat_minor": 2
}
